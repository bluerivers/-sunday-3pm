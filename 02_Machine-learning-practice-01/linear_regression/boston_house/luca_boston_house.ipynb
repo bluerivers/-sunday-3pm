{
 "cells": [
  {
   "cell_type": "code",
   "execution_count": 5,
   "metadata": {
    "collapsed": true,
    "deletable": true,
    "editable": true
   },
   "outputs": [],
   "source": [
    "import matplotlib.pyplot as plt\n",
    "%matplotlib inline\n",
    "import tensorflow as tf\n",
    "import numpy as np\n",
    "\n",
    "from numpy import genfromtxt\n",
    "from scipy import stats\n",
    "from sklearn.datasets import load_boston"
   ]
  },
  {
   "cell_type": "code",
   "execution_count": 31,
   "metadata": {
    "collapsed": true,
    "deletable": true,
    "editable": true
   },
   "outputs": [],
   "source": [
    "def read_dataset(filePath,delimiter=','):\n",
    "    return genfromtxt(filePath, delimiter=delimiter)\n",
    "\n",
    "def read_boston_data():\n",
    "    boston = load_boston()\n",
    "    features = np.array(boston.data)\n",
    "    labels = np.array(boston.target)\n",
    "    return features, labels\n",
    "\n",
    "# this is z-score that value minus mean divided by standard deviation\n",
    "# http://duramecho.com/Misc/WhyMinusOneInSd.html\n",
    "def feature_normalize(dataset):\n",
    "    mu = np.mean(dataset,axis=0)\n",
    "    sigma = np.std(dataset,axis=0)\n",
    "    return (dataset - mu)/sigma\n",
    "\n",
    "def append_bias_reshape(features,labels):\n",
    "    n_training_samples = features.shape[0]\n",
    "    n_dim = features.shape[1]\n",
    "    f = np.reshape(np.c_[np.ones(n_training_samples),features],[n_training_samples,n_dim + 1])\n",
    "    l = np.reshape(labels,[n_training_samples,1])\n",
    "    return f, l"
   ]
  },
  {
   "cell_type": "markdown",
   "metadata": {
    "deletable": true,
    "editable": true
   },
   "source": [
    "## 찾은거 요약\n",
    "- [Numpy ndarray 연산](http://yujuwon.tistory.com/entry/Numpy-ndarray-%EC%97%B0%EC%82%B0)\n",
    "- [numpy.array](https://docs.scipy.org/doc/numpy/reference/generated/numpy.array.html)\n",
    "- [numpy.ndarray](https://docs.scipy.org/doc/numpy/reference/generated/numpy.ndarray.html) ndarray is N-demension array\n",
    "- [numpy.ndarray.shape](https://docs.scipy.org/doc/numpy/reference/generated/numpy.ndarray.shape.html)\n",
    "- [numpy describe data](https://docs.scipy.org/doc/scipy-0.19.0/reference/generated/scipy.stats.describe.html)\n",
    "- [numpy.random.rand](https://docs.scipy.org/doc/numpy/reference/generated/numpy.random.rand.html)"
   ]
  },
  {
   "cell_type": "code",
   "execution_count": 32,
   "metadata": {
    "collapsed": false,
    "deletable": true,
    "editable": true
   },
   "outputs": [
    {
     "name": "stdout",
     "output_type": "stream",
     "text": [
      "(506, 13) (506,)\n",
      "[  7.39046710e+01   5.43936814e+02   4.70644425e+01   6.45129730e-02\n",
      "   1.34276357e-02   4.93670850e-01   7.92358399e+02   4.43401514e+00\n",
      "   7.58163660e+01   2.84047595e+04   4.68698912e+00   8.33475226e+03\n",
      "   5.09947595e+01]\n",
      "[ 1.0019802  1.0019802  1.0019802  1.0019802  1.0019802  1.0019802\n",
      "  1.0019802  1.0019802  1.0019802  1.0019802  1.0019802  1.0019802\n",
      "  1.0019802]\n",
      "(506, 14)\n"
     ]
    }
   ],
   "source": [
    "features,labels = read_boston_data()\n",
    "print features.shape, labels.shape\n",
    "print stats.describe(features).variance\n",
    "#[  7.39046710e+01   5.43936814e+02   4.70644425e+01   6.45129730e-02\n",
    "#   1.34276357e-02   4.93670850e-01   7.92358399e+02   4.43401514e+00\n",
    "#   7.58163660e+01   2.84047595e+04   4.68698912e+00   8.33475226e+03\n",
    "#   5.09947595e+01]\n",
    "\n",
    "normalized_features = feature_normalize(features)\n",
    "print stats.describe(normalized_features).variance\n",
    "# 확실히 위의 features에 비해서, variance가 1에 근접함\n",
    "#[ 1.0019802  1.0019802  1.0019802  1.0019802  1.0019802  1.0019802\n",
    "#  1.0019802  1.0019802  1.0019802  1.0019802  1.0019802  1.0019802\n",
    "#  1.0019802]\n",
    "\n",
    "f, l = append_bias_reshape(normalized_features,labels)\n",
    "# bias variable이 추가됨\n",
    "print f.shape\n",
    "n_dim = f.shape[1] # variable count\n"
   ]
  },
  {
   "cell_type": "code",
   "execution_count": 8,
   "metadata": {
    "collapsed": false,
    "deletable": true,
    "editable": true
   },
   "outputs": [
    {
     "name": "stdout",
     "output_type": "stream",
     "text": [
      "(506,)\n"
     ]
    }
   ],
   "source": [
    "# rand는 [0,1)의 array를 만들어냄 따라서 0.8보다 작은 행을 true로 만들어 train data set으로 선택하려는 것\n",
    "# 80%를 의미하는 지는 rand 내부를 봐야함\n",
    "rnd_indices = np.random.rand(len(f)) < 0.80\n",
    "print rnd_indices.shape\n",
    "\n",
    "train_x = f[rnd_indices]\n",
    "train_y = l[rnd_indices]\n",
    "test_x = f[~rnd_indices]\n",
    "test_y = l[~rnd_indices]"
   ]
  },
  {
   "cell_type": "code",
   "execution_count": 9,
   "metadata": {
    "collapsed": false,
    "deletable": true,
    "editable": true
   },
   "outputs": [],
   "source": [
    "learning_rate = 0.1\n",
    "training_epochs = 10000\n",
    "cost_history = np.empty(shape=[1],dtype=float)\n",
    "\n",
    "X = tf.placeholder(tf.float32,[None,n_dim])\n",
    "Y = tf.placeholder(tf.float32,[None,1])\n",
    "W = tf.Variable(tf.ones([n_dim,1]))\n",
    "\n",
    "init = tf.global_variables_initializer()"
   ]
  },
  {
   "cell_type": "code",
   "execution_count": 10,
   "metadata": {
    "collapsed": false,
    "deletable": true,
    "editable": true
   },
   "outputs": [],
   "source": [
    "y_ = tf.matmul(X, W)\n",
    "cost = tf.reduce_mean(tf.square(y_ - Y))\n",
    "training_step = tf.train.GradientDescentOptimizer(learning_rate).minimize(cost)"
   ]
  },
  {
   "cell_type": "code",
   "execution_count": 40,
   "metadata": {
    "collapsed": false,
    "deletable": true,
    "editable": true
   },
   "outputs": [],
   "source": [
    "sess = tf.Session()\n",
    "sess.run(init)\n",
    "\n",
    "for epoch in range(training_epochs):\n",
    "    sess.run(training_step,feed_dict={X:train_x,Y:train_y})\n",
    "    cost_history = np.append(cost_history,sess.run(cost,feed_dict={X: train_x,Y: train_y}))"
   ]
  },
  {
   "cell_type": "code",
   "execution_count": 41,
   "metadata": {
    "collapsed": false,
    "deletable": true,
    "editable": true
   },
   "outputs": [
    {
     "data": {
      "image/png": "[encoded data removed]",
      "text/plain": [
       "<matplotlib.figure.Figure at 0x7f92a1cfd250>"
      ]
     },
     "metadata": {},
     "output_type": "display_data"
    }
   ],
   "source": [
    "plt.plot(range(len(cost_history)),cost_history)\n",
    "plt.axis([0,training_epochs,0,np.max(cost_history)])\n",
    "plt.show()"
   ]
  },
  {
   "cell_type": "code",
   "execution_count": 42,
   "metadata": {
    "collapsed": false
   },
   "outputs": [
    {
     "name": "stdout",
     "output_type": "stream",
     "text": [
      "MSE: 18.5305\n"
     ]
    },
    {
     "data": {
      "image/png": "[encoded data removed]",
      "text/plain": [
       "<matplotlib.figure.Figure at 0x7f92a1c65850>"
      ]
     },
     "metadata": {},
     "output_type": "display_data"
    }
   ],
   "source": [
    "pred_y = sess.run(y_, feed_dict={X: test_x})\n",
    "mse = tf.reduce_mean(tf.square(pred_y - test_y))\n",
    "print(\"MSE: %.4f\" % sess.run(mse)) \n",
    "\n",
    "fig, ax = plt.subplots()\n",
    "ax.scatter(test_y, pred_y)\n",
    "ax.plot([test_y.min(), test_y.max()], [test_y.min(), test_y.max()], 'k--', lw=3)\n",
    "ax.set_xlabel('Measured')\n",
    "ax.set_ylabel('Predicted')\n",
    "plt.show()"
   ]
  },
  {
   "cell_type": "code",
   "execution_count": 44,
   "metadata": {
    "collapsed": false,
    "deletable": true,
    "editable": true,
    "scrolled": true
   },
   "outputs": [
    {
     "name": "stdout",
     "output_type": "stream",
     "text": [
      "[['22.5410957336' '0. Bias']\n",
      " ['-1.11253035069' '1. CRIM: per capita crime rate by town ']\n",
      " ['1.16822910309'\n",
      "  '2. ZN: proportion of residential land zoned for lots over 25,000 sq.ft. ']\n",
      " ['0.103921040893'\n",
      "  '3. INDUS: proportion of non-retail business acres per town ']\n",
      " ['0.804947674274'\n",
      "  '4. CHAS: Charles River dummy variable (= 1 if tract bounds river; 0 otherwise) ']\n",
      " ['-1.65389966965'\n",
      "  '5. NOX: nitric oxides concentration (parts per 10 million) ']\n",
      " ['2.62107539177' '6. RM: average number of rooms per dwelling ']\n",
      " ['-0.0379169210792'\n",
      "  '7. AGE: proportion of owner-occupied units built prior to 1940 ']\n",
      " ['-3.14623165131'\n",
      "  '8. DIS: weighted distances to five Boston employment centres ']\n",
      " ['2.87819242477' '9. RAD: index of accessibility to radial highways ']\n",
      " ['-2.08802080154' '10. TAX: full-value property-tax rate per $10,000 ']\n",
      " ['-2.01355981827' '11. PTRATIO: pupil-teacher ratio by town ']\n",
      " ['1.02733182907'\n",
      "  '12. B: 1000(Bk - 0.63)^2 where Bk is the proportion of blacks by town ']\n",
      " ['-3.95466136932' '13. LSTAT: % lower status of the population ']]\n"
     ]
    }
   ],
   "source": [
    "col_desc = [\"0. Bias\",\"1. CRIM: per capita crime rate by town \",\n",
    "\"2. ZN: proportion of residential land zoned for lots over 25,000 sq.ft. \",\n",
    "\"3. INDUS: proportion of non-retail business acres per town \",\n",
    "\"4. CHAS: Charles River dummy variable (= 1 if tract bounds river; 0 otherwise) \",\n",
    "\"5. NOX: nitric oxides concentration (parts per 10 million) \",\n",
    "\"6. RM: average number of rooms per dwelling \",\n",
    "\"7. AGE: proportion of owner-occupied units built prior to 1940 \",\n",
    "\"8. DIS: weighted distances to five Boston employment centres \",\n",
    "\"9. RAD: index of accessibility to radial highways \",\n",
    "\"10. TAX: full-value property-tax rate per $10,000 \",\n",
    "\"11. PTRATIO: pupil-teacher ratio by town \",\n",
    "\"12. B: 1000(Bk - 0.63)^2 where Bk is the proportion of blacks by town \",\n",
    "\"13. LSTAT: % lower status of the population \"]\n",
    "\n",
    "print np.c_[sess.run(W), col_desc] "
   ]
  },
  {
   "cell_type": "code",
   "execution_count": 38,
   "metadata": {
    "collapsed": true,
    "deletable": true,
    "editable": true
   },
   "outputs": [],
   "source": [
    "sess.close()"
   ]
  },
  {
   "cell_type": "code",
   "execution_count": null,
   "metadata": {
    "collapsed": true
   },
   "outputs": [],
   "source": []
  }
 ],
 "metadata": {
  "kernelspec": {
   "display_name": "Python 2",
   "language": "python",
   "name": "python2"
  },
  "language_info": {
   "codemirror_mode": {
    "name": "ipython",
    "version": 2
   },
   "file_extension": ".py",
   "mimetype": "text/x-python",
   "name": "python",
   "nbconvert_exporter": "python",
   "pygments_lexer": "ipython2",
   "version": "2.7.6"
  }
 },
 "nbformat": 4,
 "nbformat_minor": 2
}
