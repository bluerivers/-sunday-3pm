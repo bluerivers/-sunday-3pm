{
 "cells": [
  {
   "cell_type": "code",
   "execution_count": 826,
   "metadata": {},
   "outputs": [],
   "source": [
    "import matplotlib.pyplot as plt\n",
    "%matplotlib inline\n",
    "import tensorflow as tf\n",
    "import numpy as np\n",
    "import pandas as pd\n",
    "\n",
    "from numpy import genfromtxt\n",
    "from scipy import stats"
   ]
  },
  {
   "cell_type": "code",
   "execution_count": 827,
   "metadata": {
    "collapsed": true
   },
   "outputs": [],
   "source": [
    "# this is z-score that value minus mean divided by standard deviation\n",
    "# http://duramecho.com/Misc/WhyMinusOneInSd.html\n",
    "def feature_normalize(dataset):\n",
    "    mu = np.mean(dataset,axis=0)\n",
    "    sigma = np.std(dataset,axis=0)\n",
    "    return (dataset - mu)/sigma\n",
    "\n",
    "def append_bias_reshape(features,labels):\n",
    "    n_training_samples = features.shape[0]\n",
    "    n_dim = features.shape[1]\n",
    "    # 아래꺼 np.c_만 하면 되는거 아닌가? reshape는 왜하지\n",
    "    f = np.reshape(np.c_[np.ones(n_training_samples),features],[n_training_samples,n_dim + 1])\n",
    "    l = np.reshape(labels,[n_training_samples,1])\n",
    "    return f, l"
   ]
  },
  {
   "cell_type": "code",
   "execution_count": 828,
   "metadata": {
    "collapsed": true
   },
   "outputs": [],
   "source": [
    "def read_student_as_pandas():\n",
    "    df = pd.read_csv('student-mat.csv', sep=';')\n",
    "    return df"
   ]
  },
  {
   "cell_type": "code",
   "execution_count": 829,
   "metadata": {},
   "outputs": [
    {
     "data": {
      "text/plain": [
       "<matplotlib.axes._subplots.AxesSubplot at 0x7f77ba2d6250>"
      ]
     },
     "execution_count": 829,
     "metadata": {},
     "output_type": "execute_result"
    },
    {
     "data": {
      "image/png": "[encoded data removed]",
      "text/plain": [
       "<matplotlib.figure.Figure at 0x7f77b83d2f50>"
      ]
     },
     "metadata": {},
     "output_type": "display_data"
    }
   ],
   "source": [
    "df = read_student_as_pandas()\n",
    "df.tail()\n",
    "\n",
    "# drop outlier\n",
    "df.drop(df[df['G3'] == 0].index, inplace=True)\n",
    "df['G3'].value_counts().sort_index().plot('bar')"
   ]
  },
  {
   "cell_type": "code",
   "execution_count": 830,
   "metadata": {},
   "outputs": [
    {
     "data": {
      "text/html": [
       "<div>\n",
       "<style>\n",
       "    .dataframe thead tr:only-child th {\n",
       "        text-align: right;\n",
       "    }\n",
       "\n",
       "    .dataframe thead th {\n",
       "        text-align: left;\n",
       "    }\n",
       "\n",
       "    .dataframe tbody tr th {\n",
       "        vertical-align: top;\n",
       "    }\n",
       "</style>\n",
       "<table border=\"1\" class=\"dataframe\">\n",
       "  <thead>\n",
       "    <tr style=\"text-align: right;\">\n",
       "      <th></th>\n",
       "      <th>school</th>\n",
       "      <th>sex</th>\n",
       "      <th>age</th>\n",
       "      <th>address</th>\n",
       "      <th>famsize</th>\n",
       "      <th>Pstatus</th>\n",
       "      <th>Medu</th>\n",
       "      <th>Fedu</th>\n",
       "      <th>Mjob</th>\n",
       "      <th>Fjob</th>\n",
       "      <th>...</th>\n",
       "      <th>famrel</th>\n",
       "      <th>freetime</th>\n",
       "      <th>goout</th>\n",
       "      <th>Dalc</th>\n",
       "      <th>Walc</th>\n",
       "      <th>health</th>\n",
       "      <th>absences</th>\n",
       "      <th>G1</th>\n",
       "      <th>G2</th>\n",
       "      <th>G3</th>\n",
       "    </tr>\n",
       "  </thead>\n",
       "  <tbody>\n",
       "    <tr>\n",
       "      <th>390</th>\n",
       "      <td>1</td>\n",
       "      <td>1</td>\n",
       "      <td>20</td>\n",
       "      <td>1</td>\n",
       "      <td>1</td>\n",
       "      <td>0</td>\n",
       "      <td>2</td>\n",
       "      <td>2</td>\n",
       "      <td>3</td>\n",
       "      <td>3</td>\n",
       "      <td>...</td>\n",
       "      <td>5</td>\n",
       "      <td>5</td>\n",
       "      <td>4</td>\n",
       "      <td>4</td>\n",
       "      <td>5</td>\n",
       "      <td>4</td>\n",
       "      <td>11</td>\n",
       "      <td>9</td>\n",
       "      <td>9</td>\n",
       "      <td>9</td>\n",
       "    </tr>\n",
       "    <tr>\n",
       "      <th>391</th>\n",
       "      <td>1</td>\n",
       "      <td>1</td>\n",
       "      <td>17</td>\n",
       "      <td>1</td>\n",
       "      <td>1</td>\n",
       "      <td>1</td>\n",
       "      <td>3</td>\n",
       "      <td>1</td>\n",
       "      <td>3</td>\n",
       "      <td>3</td>\n",
       "      <td>...</td>\n",
       "      <td>2</td>\n",
       "      <td>4</td>\n",
       "      <td>5</td>\n",
       "      <td>3</td>\n",
       "      <td>4</td>\n",
       "      <td>2</td>\n",
       "      <td>3</td>\n",
       "      <td>14</td>\n",
       "      <td>16</td>\n",
       "      <td>16</td>\n",
       "    </tr>\n",
       "    <tr>\n",
       "      <th>392</th>\n",
       "      <td>1</td>\n",
       "      <td>1</td>\n",
       "      <td>21</td>\n",
       "      <td>0</td>\n",
       "      <td>0</td>\n",
       "      <td>1</td>\n",
       "      <td>1</td>\n",
       "      <td>1</td>\n",
       "      <td>2</td>\n",
       "      <td>2</td>\n",
       "      <td>...</td>\n",
       "      <td>5</td>\n",
       "      <td>5</td>\n",
       "      <td>3</td>\n",
       "      <td>3</td>\n",
       "      <td>3</td>\n",
       "      <td>3</td>\n",
       "      <td>3</td>\n",
       "      <td>10</td>\n",
       "      <td>8</td>\n",
       "      <td>7</td>\n",
       "    </tr>\n",
       "    <tr>\n",
       "      <th>393</th>\n",
       "      <td>1</td>\n",
       "      <td>1</td>\n",
       "      <td>18</td>\n",
       "      <td>0</td>\n",
       "      <td>1</td>\n",
       "      <td>1</td>\n",
       "      <td>3</td>\n",
       "      <td>2</td>\n",
       "      <td>3</td>\n",
       "      <td>2</td>\n",
       "      <td>...</td>\n",
       "      <td>4</td>\n",
       "      <td>4</td>\n",
       "      <td>1</td>\n",
       "      <td>3</td>\n",
       "      <td>4</td>\n",
       "      <td>5</td>\n",
       "      <td>0</td>\n",
       "      <td>11</td>\n",
       "      <td>12</td>\n",
       "      <td>10</td>\n",
       "    </tr>\n",
       "    <tr>\n",
       "      <th>394</th>\n",
       "      <td>1</td>\n",
       "      <td>1</td>\n",
       "      <td>19</td>\n",
       "      <td>1</td>\n",
       "      <td>1</td>\n",
       "      <td>1</td>\n",
       "      <td>1</td>\n",
       "      <td>1</td>\n",
       "      <td>2</td>\n",
       "      <td>0</td>\n",
       "      <td>...</td>\n",
       "      <td>3</td>\n",
       "      <td>2</td>\n",
       "      <td>3</td>\n",
       "      <td>3</td>\n",
       "      <td>3</td>\n",
       "      <td>5</td>\n",
       "      <td>5</td>\n",
       "      <td>8</td>\n",
       "      <td>9</td>\n",
       "      <td>9</td>\n",
       "    </tr>\n",
       "  </tbody>\n",
       "</table>\n",
       "<p>5 rows × 33 columns</p>\n",
       "</div>"
      ],
      "text/plain": [
       "     school  sex  age  address  famsize  Pstatus  Medu  Fedu  Mjob  Fjob ...  \\\n",
       "390       1    1   20        1        1        0     2     2     3     3 ...   \n",
       "391       1    1   17        1        1        1     3     1     3     3 ...   \n",
       "392       1    1   21        0        0        1     1     1     2     2 ...   \n",
       "393       1    1   18        0        1        1     3     2     3     2 ...   \n",
       "394       1    1   19        1        1        1     1     1     2     0 ...   \n",
       "\n",
       "     famrel  freetime  goout  Dalc  Walc  health  absences  G1  G2  G3  \n",
       "390       5         5      4     4     5       4        11   9   9   9  \n",
       "391       2         4      5     3     4       2         3  14  16  16  \n",
       "392       5         5      3     3     3       3         3  10   8   7  \n",
       "393       4         4      1     3     4       5         0  11  12  10  \n",
       "394       3         2      3     3     3       5         5   8   9   9  \n",
       "\n",
       "[5 rows x 33 columns]"
      ]
     },
     "execution_count": 830,
     "metadata": {},
     "output_type": "execute_result"
    }
   ],
   "source": [
    "# pandas categorical column to numeric\n",
    "# https://stackoverflow.com/questions/32011359/convert-categorical-data-in-pandas-dataframe\n",
    "str_columns = df.select_dtypes(['object']).columns\n",
    "for col in str_columns:\n",
    "    df[col] = df[col].astype('category')\n",
    "\n",
    "cat_columns = df.select_dtypes(['category']).columns\n",
    "df[cat_columns] = df[cat_columns].apply(lambda x: x.cat.codes)\n",
    "df.tail()"
   ]
  },
  {
   "cell_type": "code",
   "execution_count": 831,
   "metadata": {},
   "outputs": [
    {
     "data": {
      "text/plain": [
       "<matplotlib.axes._subplots.AxesSubplot at 0x7f77b83dc690>"
      ]
     },
     "execution_count": 831,
     "metadata": {},
     "output_type": "execute_result"
    },
    {
     "data": {
      "image/png": "[encoded data removed]",
      "text/plain": [
       "<matplotlib.figure.Figure at 0x7f77b92cb390>"
      ]
     },
     "metadata": {},
     "output_type": "display_data"
    }
   ],
   "source": [
    "grade_cluster_size = 3\n",
    "df['G3'] = df['G3'].apply(lambda x: x / grade_cluster_size)\n",
    "df['G3'].unique()\n",
    "df['G3'].value_counts().sort_index().plot('bar')"
   ]
  },
  {
   "cell_type": "code",
   "execution_count": 832,
   "metadata": {},
   "outputs": [
    {
     "name": "stdout",
     "output_type": "stream",
     "text": [
      "[  1.04097819e-01   2.50369811e-01   1.60848834e+00   1.71230290e-01\n",
      "   2.10477449e-01   9.75828534e-02   1.19683379e+00   1.17552639e+00\n",
      "   1.48391716e+00   7.35923583e-01   1.47452239e+00   2.82378120e-01\n",
      "   4.70698392e-01   6.92049854e-01   4.51247915e-01   1.20778649e-01\n",
      "   2.37796242e-01   2.50464231e-01   2.50684543e-01   1.59774022e-01\n",
      "   3.77836528e-02   1.36452334e-01   2.15906587e-01   7.84502565e-01\n",
      "   1.02333742e+00   1.18979952e+00   8.46190161e-01   1.67695842e+00\n",
      "   1.96739370e+00   6.70371699e+01   1.05005193e+01   9.90479338e+00]\n",
      "(357, 32) (357, 1)\n"
     ]
    }
   ],
   "source": [
    "features = df.iloc[:, :-1].values\n",
    "labels = df.iloc[:, -1:].values\n",
    "print stats.describe(features).variance\n",
    "print features.shape, labels.shape"
   ]
  },
  {
   "cell_type": "code",
   "execution_count": 833,
   "metadata": {},
   "outputs": [
    {
     "name": "stdout",
     "output_type": "stream",
     "text": [
      "[ 1.00280899  1.00280899  1.00280899  1.00280899  1.00280899  1.00280899\n",
      "  1.00280899  1.00280899  1.00280899  1.00280899  1.00280899  1.00280899\n",
      "  1.00280899  1.00280899  1.00280899  1.00280899  1.00280899  1.00280899\n",
      "  1.00280899  1.00280899  1.00280899  1.00280899  1.00280899  1.00280899\n",
      "  1.00280899  1.00280899  1.00280899  1.00280899  1.00280899  1.00280899\n",
      "  1.00280899  1.00280899]\n"
     ]
    }
   ],
   "source": [
    "normalized_features = feature_normalize(features)\n",
    "print stats.describe(normalized_features).variance"
   ]
  },
  {
   "cell_type": "code",
   "execution_count": 834,
   "metadata": {},
   "outputs": [
    {
     "name": "stdout",
     "output_type": "stream",
     "text": [
      "32 1\n"
     ]
    }
   ],
   "source": [
    "feature_count = normalized_features.shape[1]\n",
    "label_count = labels.shape[1]\n",
    "\n",
    "print feature_count, label_count\n",
    "\n",
    "rnd_indices = np.random.rand(len(features)) < 0.70\n",
    "\n",
    "train_x = normalized_features[rnd_indices]\n",
    "train_y = labels[rnd_indices]\n",
    "test_x = normalized_features[~rnd_indices]\n",
    "test_y = labels[~rnd_indices]"
   ]
  },
  {
   "cell_type": "code",
   "execution_count": 835,
   "metadata": {},
   "outputs": [
    {
     "name": "stdout",
     "output_type": "stream",
     "text": [
      "('one_hot', <tf.Tensor 'one_hot_53:0' shape=(?, 1, 7) dtype=float32>)\n",
      "('reshape', <tf.Tensor 'Reshape_178:0' shape=(?, 7) dtype=float32>)\n"
     ]
    }
   ],
   "source": [
    "training_epochs = 2000\n",
    "learning_rate = 0.01\n",
    "cost_history = np.empty(shape=[1],dtype=float)\n",
    "nb_classes = 7  # nb_classes = 21 / grade_cluster_size\n",
    "\n",
    "# x는 float32 로 할 필요가 있나? normalized 되었기때문에 float32 써야함\n",
    "X = tf.placeholder(tf.float32,[None,feature_count])\n",
    "Y = tf.placeholder(tf.int32,[None,label_count])\n",
    "Y_one_hot = tf.one_hot(Y, nb_classes)  # one hot\n",
    "print(\"one_hot\", Y_one_hot)\n",
    "Y_one_hot = tf.reshape(Y_one_hot, [-1, nb_classes])\n",
    "print(\"reshape\", Y_one_hot)"
   ]
  },
  {
   "cell_type": "code",
   "execution_count": 836,
   "metadata": {
    "collapsed": true
   },
   "outputs": [],
   "source": [
    "def init_weights(shape):\n",
    "    return tf.Variable(tf.random_normal(shape, stddev=0.01))\n",
    "\n",
    "def model(X, w_h, w_h2, w_h3, w_4, w_o, p_keep_input, p_keep_hidden): # this network is the same as the previous one except with an extra hidden layer + dropout\n",
    "    X = tf.nn.dropout(X, p_keep_input)\n",
    "    print w_h.shape[1], type(w_h.shape[1])\n",
    "    b = tf.Variable(tf.random_normal([32]))\n",
    "    h = tf.nn.relu(tf.matmul(X, w_h) + b)\n",
    "    \n",
    "    h = tf.nn.dropout(h, p_keep_hidden)\n",
    "    b2 = tf.Variable(tf.random_normal([32]))\n",
    "    h2 = tf.nn.relu(tf.matmul(h, w_h2) + b2)\n",
    "\n",
    "    h2 = tf.nn.dropout(h2, p_keep_hidden)\n",
    "    b3 = tf.Variable(tf.random_normal([32]))\n",
    "    h3 = tf.nn.relu(tf.matmul(h2, w_h3) + b3)\n",
    "    \n",
    "    h3 = tf.nn.dropout(h3, p_keep_hidden)\n",
    "    b4 = tf.Variable(tf.random_normal([32]))\n",
    "    h4 = tf.nn.sigmoid(tf.matmul(h3, w_h4) + b4)\n",
    "    \n",
    "    h4 = tf.nn.dropout(h4, p_keep_hidden)\n",
    "\n",
    "    return tf.matmul(h4, w_o)"
   ]
  },
  {
   "cell_type": "code",
   "execution_count": 837,
   "metadata": {},
   "outputs": [
    {
     "name": "stdout",
     "output_type": "stream",
     "text": [
      "32 <class 'tensorflow.python.framework.tensor_shape.Dimension'>\n"
     ]
    }
   ],
   "source": [
    "# w0, b0, h0 = get_class_logits()\n",
    "\n",
    "w_h = init_weights([feature_count, feature_count])\n",
    "w_h2 = init_weights([feature_count, feature_count])\n",
    "w_h3 = init_weights([feature_count, feature_count])\n",
    "w_h4 = init_weights([feature_count, feature_count])\n",
    "w0 = init_weights([feature_count, nb_classes])\n",
    "\n",
    "p_keep_input = tf.placeholder(\"float\")\n",
    "p_keep_hidden = tf.placeholder(\"float\")\n",
    "\n",
    "h0 = model(X, w_h, w_h2, w_h3, w_h4, w0, p_keep_input, p_keep_hidden)"
   ]
  },
  {
   "cell_type": "code",
   "execution_count": 838,
   "metadata": {
    "collapsed": true
   },
   "outputs": [],
   "source": [
    "# https://github.com/carpedm20/DCGAN-tensorflow/issues/99\n",
    "# all_logits = tf.concat([h0, h1, h2], 1)\n",
    "\n",
    "regularizers = tf.nn.l2_loss(w0)\n",
    "\n",
    "# Cross entropy cost/loss\n",
    "cost = tf.reduce_mean(tf.nn.softmax_cross_entropy_with_logits(logits=h0, labels=Y_one_hot))+ 1e-4*regularizers\n",
    "optimizer = tf.train.AdamOptimizer(learning_rate).minimize(cost)"
   ]
  },
  {
   "cell_type": "code",
   "execution_count": 839,
   "metadata": {},
   "outputs": [],
   "source": [
    "prediction = tf.argmax(h0, 1)\n",
    "correct_prediction = tf.equal(prediction, tf.argmax(Y_one_hot, 1))\n",
    "accuracy = tf.reduce_mean(tf.cast(correct_prediction, tf.float32))"
   ]
  },
  {
   "cell_type": "code",
   "execution_count": 840,
   "metadata": {},
   "outputs": [
    {
     "name": "stdout",
     "output_type": "stream",
     "text": [
      "(253, 32) (253, 1)\n",
      "(?, 32) (?, 1)\n",
      "Step:     0\tLoss: 1.857\tAcc: 34.78%\n",
      "Step:   500\tLoss: 0.869\tAcc: 62.85%\n",
      "Step:  1000\tLoss: 0.889\tAcc: 66.01%\n",
      "Step:  1500\tLoss: 0.832\tAcc: 64.82%\n",
      "Step:  2000\tLoss: 0.812\tAcc: 62.45%\n",
      "(104,)\n",
      "('Test Accuracy:', 0.66346157)\n"
     ]
    }
   ],
   "source": [
    "print train_x.shape, train_y.shape\n",
    "print X.shape, Y.shape\n",
    "with tf.Session() as sess:\n",
    "    sess.run(tf.global_variables_initializer())\n",
    "\n",
    "    for step in range(training_epochs + 1):\n",
    "        sess.run(optimizer, feed_dict={X: train_x, Y: train_y, p_keep_input: 0.8, p_keep_hidden: 0.5})\n",
    "        loss, acc = sess.run([cost, accuracy], feed_dict={\n",
    "                                 X: train_x, Y: train_y, p_keep_input: 0.8, p_keep_hidden: 0.5})\n",
    "        cost_history = np.append(cost_history, acc)\n",
    "        if step % 500 == 0:\n",
    "            print(\"Step: {:5}\\tLoss: {:.3f}\\tAcc: {:.2%}\".format(\n",
    "                step, loss, acc))\n",
    "            \n",
    "    # Test model and check accuracy\n",
    "    pre = tf.argmax(h0, 1)\n",
    "    test_yy = np.transpose(test_y.ravel())\n",
    "    print(test_yy.shape)\n",
    "    correct_prediction = tf.equal(pre, test_yy)\n",
    "    accuracy = tf.reduce_mean(tf.cast(correct_prediction, tf.float32))\n",
    "    print('Test Accuracy:', sess.run(accuracy, feed_dict={X: test_x, \n",
    "                                                         p_keep_input: 1.0,\n",
    "                                                         p_keep_hidden: 1.0}))"
   ]
  },
  {
   "cell_type": "code",
   "execution_count": 841,
   "metadata": {},
   "outputs": [
    {
     "name": "stdout",
     "output_type": "stream",
     "text": [
      "(2002,)\n"
     ]
    },
    {
     "data": {
      "image/png": "[encoded data removed]",
      "text/plain": [
       "<matplotlib.figure.Figure at 0x7f77b81d24d0>"
      ]
     },
     "metadata": {},
     "output_type": "display_data"
    }
   ],
   "source": [
    "print cost_history.shape\n",
    "plt.plot(range(len(cost_history)),cost_history)\n",
    "plt.axis([0,training_epochs,0,1])\n",
    "plt.show()"
   ]
  },
  {
   "cell_type": "code",
   "execution_count": 842,
   "metadata": {
    "collapsed": true
   },
   "outputs": [],
   "source": [
    "sess.close()"
   ]
  }
 ],
 "metadata": {
  "kernelspec": {
   "display_name": "Python 2",
   "language": "python",
   "name": "python2"
  },
  "language_info": {
   "codemirror_mode": {
    "name": "ipython",
    "version": 2
   },
   "file_extension": ".py",
   "mimetype": "text/x-python",
   "name": "python",
   "nbconvert_exporter": "python",
   "pygments_lexer": "ipython2",
   "version": "2.7.12"
  }
 },
 "nbformat": 4,
 "nbformat_minor": 2
}
