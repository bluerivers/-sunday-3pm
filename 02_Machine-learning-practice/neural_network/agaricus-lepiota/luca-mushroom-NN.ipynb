{
 "cells": [
  {
   "cell_type": "code",
   "execution_count": 66,
   "metadata": {
    "collapsed": true
   },
   "outputs": [],
   "source": [
    "import matplotlib.pyplot as plt\n",
    "%matplotlib inline\n",
    "import tensorflow as tf\n",
    "import numpy as np\n",
    "import pandas as pd\n",
    "import random\n",
    "\n",
    "from numpy import genfromtxt\n",
    "from scipy import stats"
   ]
  },
  {
   "cell_type": "code",
   "execution_count": 67,
   "metadata": {
    "collapsed": true
   },
   "outputs": [],
   "source": [
    "# this is z-score that value minus mean divided by standard deviation\n",
    "# http://duramecho.com/Misc/WhyMinusOneInSd.html\n",
    "def feature_normalize(dataset):\n",
    "    mu = np.mean(dataset,axis=0)\n",
    "    sigma = np.std(dataset,axis=0)\n",
    "    return (dataset - mu)/sigma\n",
    "\n",
    "def append_bias_reshape(features,labels):\n",
    "    n_training_samples = features.shape[0]\n",
    "    n_dim = features.shape[1]\n",
    "    # 아래꺼 np.c_만 하면 되는거 아닌가? reshape는 왜하지\n",
    "    f = np.reshape(np.c_[np.ones(n_training_samples),features],[n_training_samples,n_dim + 1])\n",
    "    l = np.reshape(labels,[n_training_samples,1])\n",
    "    return f, l\n",
    "\n",
    "def str_to_int(df):\n",
    "    str_columns = df.select_dtypes(['object']).columns\n",
    "    print(str_columns)\n",
    "    for col in str_columns:\n",
    "        df[col] = df[col].astype('category')\n",
    "\n",
    "    cat_columns = df.select_dtypes(['category']).columns\n",
    "    df[cat_columns] = df[cat_columns].apply(lambda x: x.cat.codes)\n",
    "    return df"
   ]
  },
  {
   "cell_type": "code",
   "execution_count": 68,
   "metadata": {
    "collapsed": true
   },
   "outputs": [],
   "source": [
    "def read_data(file_name):\n",
    "    df = pd.read_csv(file_name, sep=',', header=None)\n",
    "    return df"
   ]
  },
  {
   "cell_type": "code",
   "execution_count": 69,
   "metadata": {},
   "outputs": [
    {
     "name": "stdout",
     "output_type": "stream",
     "text": [
      "     0  1  2  3  4  5  6  7  8  9  ... 13 14 15 16 17 18 19 20 21 22\n",
      "8119  e  k  s  n  f  n  a  c  b  y ...  s  o  o  p  o  o  p  b  c  l\n",
      "8120  e  x  s  n  f  n  a  c  b  y ...  s  o  o  p  n  o  p  b  v  l\n",
      "8121  e  f  s  n  f  n  a  c  b  n ...  s  o  o  p  o  o  p  b  c  l\n",
      "8122  p  k  y  n  f  y  f  c  n  b ...  k  w  w  p  w  o  e  w  v  l\n",
      "8123  e  x  s  n  f  n  a  c  b  y ...  s  o  o  p  o  o  p  o  c  l\n",
      "\n",
      "[5 rows x 23 columns]\n",
      "Int64Index([ 0,  1,  2,  3,  4,  5,  6,  7,  8,  9, 10, 11, 12, 13, 14, 15, 16,\n",
      "            17, 18, 19, 20, 21, 22],\n",
      "           dtype='int64')\n",
      "      0   1   2   3   4   5   6   7   8   9  ...  13  14  15  16  17  18  19  \\\n",
      "8119   0   3   2   4   0   5   0   0   0  11 ...   2   5   5   0   1   1   4   \n",
      "8120   0   5   2   4   0   5   0   0   0  11 ...   2   5   5   0   0   1   4   \n",
      "8121   0   2   2   4   0   5   0   0   0   5 ...   2   5   5   0   1   1   4   \n",
      "8122   1   3   3   4   0   8   1   0   1   0 ...   1   7   7   0   2   1   0   \n",
      "8123   0   5   2   4   0   5   0   0   0  11 ...   2   5   5   0   1   1   4   \n",
      "\n",
      "      20  21  22  \n",
      "8119   0   1   2  \n",
      "8120   0   4   2  \n",
      "8121   0   1   2  \n",
      "8122   7   4   2  \n",
      "8123   4   1   2  \n",
      "\n",
      "[5 rows x 23 columns]\n"
     ]
    },
    {
     "data": {
      "text/plain": [
       "<matplotlib.axes._subplots.AxesSubplot at 0x293d4c536a0>"
      ]
     },
     "execution_count": 69,
     "metadata": {},
     "output_type": "execute_result"
    },
    {
     "data": {
      "image/png": "[encoded data removed]",
      "text/plain": [
       "<matplotlib.figure.Figure at 0x293d4c4f438>"
      ]
     },
     "metadata": {},
     "output_type": "display_data"
    }
   ],
   "source": [
    "df = read_data('agaricus-lepiota.data')\n",
    "print(df.tail())\n",
    "df = str_to_int(df)\n",
    "print(df.tail())\n",
    "df[0].value_counts().sort_index().plot('bar')"
   ]
  },
  {
   "cell_type": "code",
   "execution_count": 70,
   "metadata": {},
   "outputs": [
    {
     "name": "stdout",
     "output_type": "stream",
     "text": [
      "[  0.24970776   2.57387182   1.51258643   6.48120427   0.24289959\n",
      "   4.42567606   0.02518425   0.13543225   0.21362444  12.53414165\n",
      "   0.24551327   1.12594609   0.38621168   0.45694105   3.61664276\n",
      "   3.63776071   0.           0.05888829   0.07347592   3.246022\n",
      "   5.67708411   1.56770888]\n",
      "(8124, 22) (8124, 1)\n"
     ]
    }
   ],
   "source": [
    "features = df.iloc[:, :-1].values\n",
    "labels = df.iloc[:, -1:].values\n",
    "print(stats.describe(features).variance)\n",
    "print(features.shape, labels.shape)"
   ]
  },
  {
   "cell_type": "code",
   "execution_count": 71,
   "metadata": {},
   "outputs": [
    {
     "name": "stdout",
     "output_type": "stream",
     "text": [
      "[ 1.00012311  1.00012311  1.00012311  1.00012311  1.00012311  1.00012311\n",
      "  1.00012311  1.00012311  1.00012311  1.00012311  1.00012311  1.00012311\n",
      "  1.00012311  1.00012311  1.00012311  1.00012311         nan  1.00012311\n",
      "  1.00012311  1.00012311  1.00012311  1.00012311]\n"
     ]
    },
    {
     "name": "stderr",
     "output_type": "stream",
     "text": [
      "C:\\Users\\deera\\Anaconda3\\lib\\site-packages\\ipykernel_launcher.py:6: RuntimeWarning: invalid value encountered in true_divide\n",
      "  \n"
     ]
    }
   ],
   "source": [
    "features = feature_normalize(features)\n",
    "print(stats.describe(features).variance)"
   ]
  },
  {
   "cell_type": "code",
   "execution_count": 72,
   "metadata": {},
   "outputs": [
    {
     "name": "stdout",
     "output_type": "stream",
     "text": [
      "22 1\n"
     ]
    }
   ],
   "source": [
    "rnd_indices = np.random.rand(len(features)) < 0.70\n",
    "\n",
    "train_x = features[rnd_indices]\n",
    "train_y = labels[rnd_indices]\n",
    "test_x = features[~rnd_indices]\n",
    "test_y = labels[~rnd_indices]\n",
    "\n",
    "feature_count = train_x.shape[1]\n",
    "label_count = train_y.shape[1]\n",
    "print(feature_count, label_count)"
   ]
  },
  {
   "cell_type": "code",
   "execution_count": 73,
   "metadata": {},
   "outputs": [
    {
     "name": "stdout",
     "output_type": "stream",
     "text": [
      "one_hot Tensor(\"one_hot_5:0\", shape=(?, 1, 2), dtype=float32)\n",
      "reshape Tensor(\"Reshape_14:0\", shape=(?, 2), dtype=float32)\n"
     ]
    }
   ],
   "source": [
    "training_epochs = 1000\n",
    "learning_rate = 0.01\n",
    "cost_history = np.empty(shape=[1],dtype=float)\n",
    "nb_classes = len(df[0].unique())\n",
    "\n",
    "X = tf.placeholder(tf.float32,[None,feature_count])\n",
    "Y = tf.placeholder(tf.int32,[None,label_count])\n",
    "Y_one_hot = tf.one_hot(Y, nb_classes)  # one hot\n",
    "print(\"one_hot\", Y_one_hot)\n",
    "Y_one_hot = tf.reshape(Y_one_hot, [-1, nb_classes])\n",
    "print(\"reshape\", Y_one_hot)"
   ]
  },
  {
   "cell_type": "code",
   "execution_count": 74,
   "metadata": {
    "collapsed": true
   },
   "outputs": [],
   "source": [
    "def init_weights(shape):\n",
    "    return tf.Variable(tf.random_normal(shape, stddev=0.01))\n",
    "\n",
    "def model(X, p_keep_input, p_keep_hidden): # this network is the same as the previous one except with an extra hidden layer + dropout\n",
    "    s_1 = feature_count * 3\n",
    "    s_2 = feature_count\n",
    "    \n",
    "    X = tf.nn.dropout(X, p_keep_input)\n",
    "    w_h = init_weights([feature_count, s_1])\n",
    "    b = tf.Variable(tf.random_normal([s_1]))\n",
    "    h = tf.nn.relu(tf.matmul(X, w_h) + b)\n",
    "    \n",
    "    h = tf.nn.dropout(h, p_keep_hidden)\n",
    "    w_h2 = init_weights([s_1, s_2])\n",
    "    b2 = tf.Variable(tf.random_normal([s_2]))\n",
    "    h2 = tf.nn.relu(tf.matmul(h, w_h2) + b2)\n",
    "    \n",
    "    h2 = tf.nn.dropout(h2, p_keep_hidden)\n",
    "    \n",
    "    w_o = init_weights([s_2, nb_classes])\n",
    "    b_o = tf.Variable(tf.random_normal([nb_classes]))\n",
    "    return tf.matmul(h2, w_o) + b_o"
   ]
  },
  {
   "cell_type": "code",
   "execution_count": 75,
   "metadata": {},
   "outputs": [],
   "source": [
    "p_keep_input = tf.placeholder(\"float\")\n",
    "p_keep_hidden = tf.placeholder(\"float\")\n",
    "\n",
    "h0 = model(X, p_keep_input, p_keep_hidden)"
   ]
  },
  {
   "cell_type": "code",
   "execution_count": 76,
   "metadata": {
    "collapsed": true
   },
   "outputs": [],
   "source": [
    "cost = tf.reduce_mean(tf.nn.softmax_cross_entropy_with_logits(logits=h0, labels=Y_one_hot))\n",
    "optimizer = tf.train.AdamOptimizer(learning_rate).minimize(cost)"
   ]
  },
  {
   "cell_type": "code",
   "execution_count": 77,
   "metadata": {
    "collapsed": true
   },
   "outputs": [],
   "source": [
    "prediction = tf.argmax(h0, 1)\n",
    "correct_prediction = tf.equal(prediction, tf.argmax(Y_one_hot, 1))\n",
    "accuracy = tf.reduce_mean(tf.cast(correct_prediction, tf.float32))"
   ]
  },
  {
   "cell_type": "code",
   "execution_count": 78,
   "metadata": {
    "scrolled": false
   },
   "outputs": [
    {
     "name": "stdout",
     "output_type": "stream",
     "text": [
      "(5707, 22) (5707, 1)\n",
      "(2417, 22) (2417, 1)\n",
      "(?, 22) (?, 1)\n",
      "Step:     0\tLoss: 0.533\tAcc: 73.10%\n",
      "Step:   100\tLoss: 0.453\tAcc: 67.81%\n",
      "Step:   200\tLoss: 0.452\tAcc: 67.58%\n",
      "Step:   300\tLoss: 0.452\tAcc: 67.15%\n",
      "Step:   400\tLoss: 0.454\tAcc: 66.58%\n",
      "Step:   500\tLoss: 0.460\tAcc: 65.90%\n",
      "Step:   600\tLoss: 0.453\tAcc: 67.20%\n",
      "Step:   700\tLoss: 0.455\tAcc: 67.41%\n",
      "Step:   800\tLoss: 0.455\tAcc: 65.73%\n",
      "Step:   900\tLoss: 0.452\tAcc: 67.76%\n",
      "Step:  1000\tLoss: 0.455\tAcc: 65.32%\n",
      "(2417,)\n",
      "Test Accuracy: 0.383533\n"
     ]
    }
   ],
   "source": [
    "print(train_x.shape, train_y.shape)\n",
    "print(test_x.shape, test_y.shape)\n",
    "print(X.shape, Y.shape)\n",
    "training_dropout_i = 0.8\n",
    "training_dropout_h = 0.6\n",
    "with tf.Session() as sess:\n",
    "    sess.run(tf.global_variables_initializer())\n",
    "\n",
    "    for step in range(training_epochs + 1):\n",
    "        sess.run(optimizer, feed_dict={X: train_x, Y: train_y, p_keep_input: training_dropout_i, p_keep_hidden: training_dropout_h})\n",
    "        loss, acc = sess.run([cost, accuracy], feed_dict={\n",
    "                                 X: train_x, Y: train_y, p_keep_input: training_dropout_i, p_keep_hidden: training_dropout_h})\n",
    "        cost_history = np.append(cost_history, acc)\n",
    "        if step % 100 == 0:\n",
    "            print(\"Step: {:5}\\tLoss: {:.3f}\\tAcc: {:.2%}\".format(\n",
    "                step, loss, acc))\n",
    "            \n",
    "    # Test model and check accuracy\n",
    "    pre = tf.argmax(h0, 1)\n",
    "    test_yy = np.transpose(test_y.ravel())\n",
    "    print(test_yy.shape)\n",
    "    correct_prediction = tf.equal(pre, test_yy)\n",
    "    accuracy = tf.reduce_mean(tf.cast(correct_prediction, tf.float32))\n",
    "    print('Test Accuracy:', sess.run(accuracy, feed_dict={X: test_x, \n",
    "                                                         p_keep_input: 1.0,\n",
    "                                                         p_keep_hidden: 1.0}))"
   ]
  },
  {
   "cell_type": "code",
   "execution_count": 79,
   "metadata": {},
   "outputs": [
    {
     "name": "stdout",
     "output_type": "stream",
     "text": [
      "(1002,)\n"
     ]
    },
    {
     "data": {
      "image/png": "[encoded data removed]",
      "text/plain": [
       "<matplotlib.figure.Figure at 0x293d4d3eef0>"
      ]
     },
     "metadata": {},
     "output_type": "display_data"
    }
   ],
   "source": [
    "print(cost_history.shape)\n",
    "plt.plot(range(len(cost_history)),cost_history)\n",
    "plt.axis([0,training_epochs,0,1])\n",
    "plt.show()"
   ]
  },
  {
   "cell_type": "code",
   "execution_count": 80,
   "metadata": {
    "collapsed": true
   },
   "outputs": [],
   "source": [
    "sess.close()"
   ]
  }
 ],
 "metadata": {
  "kernelspec": {
   "display_name": "Python 3",
   "language": "python",
   "name": "python3"
  },
  "language_info": {
   "codemirror_mode": {
    "name": "ipython",
    "version": 3
   },
   "file_extension": ".py",
   "mimetype": "text/x-python",
   "name": "python",
   "nbconvert_exporter": "python",
   "pygments_lexer": "ipython3",
   "version": "3.6.1"
  }
 },
 "nbformat": 4,
 "nbformat_minor": 2
}
