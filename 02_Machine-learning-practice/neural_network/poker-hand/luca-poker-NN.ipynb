{
 "cells": [
  {
   "cell_type": "code",
   "execution_count": 187,
   "metadata": {
    "collapsed": true
   },
   "outputs": [],
   "source": [
    "import matplotlib.pyplot as plt\n",
    "%matplotlib inline\n",
    "import tensorflow as tf\n",
    "import numpy as np\n",
    "import pandas as pd\n",
    "\n",
    "from numpy import genfromtxt\n",
    "from scipy import stats"
   ]
  },
  {
   "cell_type": "code",
   "execution_count": 188,
   "metadata": {
    "collapsed": true
   },
   "outputs": [],
   "source": [
    "# this is z-score that value minus mean divided by standard deviation\n",
    "# http://duramecho.com/Misc/WhyMinusOneInSd.html\n",
    "def feature_normalize(dataset):\n",
    "    mu = np.mean(dataset,axis=0)\n",
    "    sigma = np.std(dataset,axis=0)\n",
    "    return (dataset - mu)/sigma\n",
    "\n",
    "def append_bias_reshape(features,labels):\n",
    "    n_training_samples = features.shape[0]\n",
    "    n_dim = features.shape[1]\n",
    "    # 아래꺼 np.c_만 하면 되는거 아닌가? reshape는 왜하지\n",
    "    f = np.reshape(np.c_[np.ones(n_training_samples),features],[n_training_samples,n_dim + 1])\n",
    "    l = np.reshape(labels,[n_training_samples,1])\n",
    "    return f, l"
   ]
  },
  {
   "cell_type": "code",
   "execution_count": 189,
   "metadata": {
    "collapsed": true
   },
   "outputs": [],
   "source": [
    "def read_data(file_name):\n",
    "    df = pd.read_csv(file_name, sep=',', header=None)\n",
    "    return df\n",
    "\n",
    "def merge_column(df):\n",
    "    new_df = pd.DataFrame()\n",
    "    for i in range(df.shape[1]/2):\n",
    "        new_df[i] = df[i] * df[i+1]\n",
    "    return new_df"
   ]
  },
  {
   "cell_type": "code",
   "execution_count": 190,
   "metadata": {},
   "outputs": [
    {
     "name": "stdout",
     "output_type": "stream",
     "text": [
      "       0   1   2   3   4   5   6   7   8   9   10\n",
      "25005   3   9   2   6   4  11   4  12   2   4   0\n",
      "25006   4   1   4  10   3  13   3   4   1  10   1\n",
      "25007   2   1   2  10   4   4   4   1   4  13   1\n",
      "25008   2  12   4   3   1  10   1  12   4   9   1\n",
      "25009   1   7   3  11   3   3   4   8   3   7   1\n",
      "        0   1   2   3   4   5   6   7   8   9   10\n",
      "999995   3   1   1  12   2   9   4   9   2   6   1\n",
      "999996   3   3   4   5   2   7   1   4   4   3   1\n",
      "999997   1  11   4   7   3   9   1  13   2   7   1\n",
      "999998   3  11   1   8   1   1   3  13   2   8   1\n",
      "999999   2   5   2   9   4   9   2   3   3   3   2\n"
     ]
    }
   ],
   "source": [
    "df = read_data('poker-hand-training-true.data')\n",
    "df_test = read_data('poker-hand-testing.data')\n",
    "print(df.tail())\n",
    "print(df_test.tail())"
   ]
  },
  {
   "cell_type": "code",
   "execution_count": 191,
   "metadata": {},
   "outputs": [
    {
     "name": "stdout",
     "output_type": "stream",
     "text": [
      "[  1.24653454  14.06103538   1.25836179  14.19009001   1.26146106\n",
      "  14.02483064   1.24547499  14.04111337   1.25156226  13.99941097]\n",
      "(25010, 10) (25010, 1)\n"
     ]
    }
   ],
   "source": [
    "features = df.iloc[:, :-1].values\n",
    "labels = df.iloc[:, -1:].values\n",
    "print(stats.describe(features).variance)\n",
    "print(features.shape, labels.shape)\n",
    "\n",
    "features_test = df_test.iloc[:, :-1].values\n",
    "labels_test = df_test.iloc[:, -1:].values"
   ]
  },
  {
   "cell_type": "code",
   "execution_count": 192,
   "metadata": {},
   "outputs": [
    {
     "name": "stdout",
     "output_type": "stream",
     "text": [
      "[ 1.00003999  1.00003999  1.00003999  1.00003999  1.00003999  1.00003999\n",
      "  1.00003999  1.00003999  1.00003999  1.00003999]\n",
      "[ 1.000001  1.000001  1.000001  1.000001  1.000001  1.000001  1.000001\n",
      "  1.000001  1.000001  1.000001]\n"
     ]
    }
   ],
   "source": [
    "features = feature_normalize(features)\n",
    "print(stats.describe(features).variance)\n",
    "\n",
    "features_test = feature_normalize(features_test)\n",
    "print(stats.describe(features_test).variance)"
   ]
  },
  {
   "cell_type": "code",
   "execution_count": 193,
   "metadata": {},
   "outputs": [
    {
     "name": "stdout",
     "output_type": "stream",
     "text": [
      "10 1\n"
     ]
    }
   ],
   "source": [
    "train_x = features\n",
    "train_y = labels\n",
    "test_x = features_test\n",
    "test_y = labels_test\n",
    "\n",
    "feature_count = train_x.shape[1]\n",
    "label_count = train_y.shape[1]\n",
    "print(feature_count, label_count)"
   ]
  },
  {
   "cell_type": "code",
   "execution_count": 194,
   "metadata": {},
   "outputs": [
    {
     "name": "stdout",
     "output_type": "stream",
     "text": [
      "one_hot Tensor(\"one_hot_14:0\", shape=(?, 1, 10), dtype=float32)\n",
      "reshape Tensor(\"Reshape_56:0\", shape=(?, 10), dtype=float32)\n"
     ]
    }
   ],
   "source": [
    "training_epochs = 3000\n",
    "learning_rate = 0.1\n",
    "cost_history = np.empty(shape=[1],dtype=float)\n",
    "nb_classes = 10\n",
    "\n",
    "# x는 float32 로 할 필요가 있나? normalized 되었기때문에 float32 써야함\n",
    "X = tf.placeholder(tf.float32,[None,feature_count])\n",
    "Y = tf.placeholder(tf.int32,[None,label_count])\n",
    "Y_one_hot = tf.one_hot(Y, nb_classes)  # one hot\n",
    "print(\"one_hot\", Y_one_hot)\n",
    "Y_one_hot = tf.reshape(Y_one_hot, [-1, nb_classes])\n",
    "print(\"reshape\", Y_one_hot)"
   ]
  },
  {
   "cell_type": "code",
   "execution_count": 195,
   "metadata": {
    "collapsed": true
   },
   "outputs": [],
   "source": [
    "def init_weights(shape):\n",
    "    return tf.Variable(tf.random_normal(shape, stddev=0.1))\n",
    "\n",
    "def model(X, p_keep_input, p_keep_hidden): # this network is the same as the previous one except with an extra hidden layer + dropout\n",
    "    s_1 = feature_count + 2\n",
    "    s_2 = feature_count + 2\n",
    "    s_3 = feature_count\n",
    "    s_4 = feature_count\n",
    "    s_5 = feature_count\n",
    "    \n",
    "    w_h = init_weights([feature_count, s_1])\n",
    "    w_h2 = init_weights([s_1, s_2])\n",
    "#     w_h3 = init_weights([s_2, s_3])\n",
    "#     w_h4 = init_weights([s_3, s_4])\n",
    "    w_o = init_weights([s_2, nb_classes])\n",
    "    \n",
    "    b = tf.Variable(tf.random_normal([s_1]))\n",
    "    b2 = tf.Variable(tf.random_normal([s_2]))\n",
    "#     b3 = tf.Variable(tf.random_normal([s_3]))\n",
    "    b_o = tf.Variable(tf.random_normal([nb_classes]))\n",
    "    \n",
    "    X = tf.nn.dropout(X, p_keep_input)\n",
    "    h = tf.nn.relu(tf.matmul(X, w_h) + b)\n",
    "    h = tf.nn.dropout(h, p_keep_hidden)\n",
    "    h2 = tf.nn.relu(tf.matmul(h, w_h2) + b2)\n",
    "    h2 = tf.nn.dropout(h2, p_keep_hidden)\n",
    "#     h3 = tf.nn.relu(tf.matmul(h2, w_h3) + b3)\n",
    "#     h3 = tf.nn.dropout(h3, p_keep_hidden)\n",
    "    \n",
    "#     b4 = tf.Variable(tf.random_normal([s_4]))\n",
    "#     h4 = tf.nn.softmax(tf.matmul(h3, w_h4) + b4)\n",
    "    \n",
    "#     h4 = tf.nn.dropout(h4, p_keep_hidden)\n",
    "#     b5 = tf.Variable(tf.random_normal([s_5]))\n",
    "#     w_h5 = init_weights([s_4, s_5])\n",
    "#     h5 = tf.nn.softmax(tf.matmul(h4, w_h5) + b5)\n",
    "    \n",
    "# #     h5 = tf.nn.dropout(h5, p_keep_hidden)\n",
    "#     b6 = tf.Variable(tf.random_normal([feature_count]))\n",
    "#     w_h6 = init_weights([feature_count, feature_count])\n",
    "#     h6 = tf.nn.relu(tf.matmul(h5, w_h6) + b6)\n",
    "    \n",
    "# #     h6 = tf.nn.dropout(h4, p_keep_hidden)\n",
    "#     b7 = tf.Variable(tf.random_normal([feature_count]))\n",
    "#     w_h7 = init_weights([feature_count, feature_count])\n",
    "#     h7 = tf.nn.relu(tf.matmul(h6, w_h7) + b7)\n",
    "    \n",
    "# #     h7 = tf.nn.dropout(h7, p_keep_hidden)\n",
    "#     b8 = tf.Variable(tf.random_normal([feature_count]))\n",
    "#     w_h8 = init_weights([feature_count, feature_count])\n",
    "#     h8 = tf.nn.relu(tf.matmul(h7, w_h8) + b8)\n",
    "    \n",
    "# #     h8 = tf.nn.dropout(h8, p_keep_hidden)\n",
    "#     b9 = tf.Variable(tf.random_normal([feature_count]))\n",
    "#     w_h9 = init_weights([feature_count, feature_count])\n",
    "#     h9 = tf.nn.relu(tf.matmul(h8, w_h9) + b9)\n",
    "    \n",
    "# #     h9 = tf.nn.dropout(h9, p_keep_hidden)\n",
    "#     b10 = tf.Variable(tf.random_normal([feature_count]))\n",
    "#     w_h10 = init_weights([feature_count, feature_count])\n",
    "#     h10 = tf.nn.relu(tf.matmul(h9, w_h10) + b10)\n",
    "    \n",
    "#     h10 = tf.nn.dropout(h10, p_keep_hidden)\n",
    "\n",
    "    \n",
    "    \n",
    "    return tf.matmul(h2, w_o) + b_o"
   ]
  },
  {
   "cell_type": "code",
   "execution_count": 196,
   "metadata": {},
   "outputs": [],
   "source": [
    "# w0, b0, h0 = get_class_logits()\n",
    "\n",
    "p_keep_input = tf.placeholder(\"float\")\n",
    "p_keep_hidden = tf.placeholder(\"float\")\n",
    "\n",
    "h0 = model(X, p_keep_input, p_keep_hidden)"
   ]
  },
  {
   "cell_type": "code",
   "execution_count": 197,
   "metadata": {
    "collapsed": true
   },
   "outputs": [],
   "source": [
    "# https://github.com/carpedm20/DCGAN-tensorflow/issues/99\n",
    "# all_logits = tf.concat([h0, h1, h2], 1)\n",
    "\n",
    "# regularizers = tf.nn.l2_loss(w0)\n",
    "\n",
    "# Cross entropy cost/loss\n",
    "cost = tf.reduce_mean(tf.nn.softmax_cross_entropy_with_logits(logits=h0, labels=Y_one_hot))\n",
    "# + 1e-4*regularizers\n",
    "optimizer = tf.train.AdamOptimizer(learning_rate).minimize(cost)"
   ]
  },
  {
   "cell_type": "code",
   "execution_count": 198,
   "metadata": {
    "collapsed": true
   },
   "outputs": [],
   "source": [
    "prediction = tf.argmax(h0, 1)\n",
    "correct_prediction = tf.equal(prediction, tf.argmax(Y_one_hot, 1))\n",
    "accuracy = tf.reduce_mean(tf.cast(correct_prediction, tf.float32))"
   ]
  },
  {
   "cell_type": "code",
   "execution_count": 199,
   "metadata": {
    "scrolled": false
   },
   "outputs": [
    {
     "name": "stdout",
     "output_type": "stream",
     "text": [
      "(25010, 10) (25010, 1)\n",
      "(1000000, 10) (1000000, 1)\n",
      "(?, 10) (?, 1)\n",
      "Step:     0\tLoss: 2.758\tAcc: 0.02%\n",
      "Step:   100\tLoss: 0.950\tAcc: 54.73%\n",
      "Step:   200\tLoss: 0.939\tAcc: 55.22%\n",
      "Step:   300\tLoss: 0.930\tAcc: 55.78%\n",
      "Step:   400\tLoss: 0.909\tAcc: 57.92%\n",
      "Step:   500\tLoss: 0.890\tAcc: 58.42%\n",
      "Step:   600\tLoss: 0.895\tAcc: 56.53%\n",
      "Step:   700\tLoss: 0.880\tAcc: 59.19%\n",
      "Step:   800\tLoss: 0.875\tAcc: 59.51%\n",
      "Step:   900\tLoss: 0.868\tAcc: 59.91%\n",
      "Step:  1000\tLoss: 0.995\tAcc: 54.17%\n",
      "Step:  1100\tLoss: 0.893\tAcc: 58.28%\n",
      "Step:  1200\tLoss: 0.890\tAcc: 58.28%\n",
      "Step:  1300\tLoss: 0.884\tAcc: 58.90%\n",
      "Step:  1400\tLoss: 0.860\tAcc: 60.88%\n",
      "Step:  1500\tLoss: 0.845\tAcc: 61.05%\n",
      "Step:  1600\tLoss: 0.840\tAcc: 61.70%\n",
      "Step:  1700\tLoss: 0.839\tAcc: 61.60%\n",
      "Step:  1800\tLoss: 0.837\tAcc: 61.66%\n",
      "Step:  1900\tLoss: 0.836\tAcc: 61.89%\n",
      "Step:  2000\tLoss: 0.833\tAcc: 62.14%\n",
      "Step:  2100\tLoss: 0.832\tAcc: 62.24%\n",
      "Step:  2200\tLoss: 0.832\tAcc: 62.27%\n",
      "Step:  2300\tLoss: 0.831\tAcc: 62.36%\n",
      "Step:  2400\tLoss: 0.830\tAcc: 62.44%\n",
      "Step:  2500\tLoss: 0.837\tAcc: 61.40%\n",
      "Step:  2600\tLoss: 0.830\tAcc: 62.42%\n",
      "Step:  2700\tLoss: 0.830\tAcc: 62.40%\n",
      "Step:  2800\tLoss: 0.832\tAcc: 62.07%\n",
      "Step:  2900\tLoss: 0.830\tAcc: 62.32%\n",
      "Step:  3000\tLoss: 0.829\tAcc: 62.28%\n",
      "(1000000,)\n",
      "Test Accuracy: 0.616436\n"
     ]
    }
   ],
   "source": [
    "print(train_x.shape, train_y.shape)\n",
    "print(test_x.shape, test_y.shape)\n",
    "print(X.shape, Y.shape)\n",
    "training_dropout_i = 1.0\n",
    "training_dropout_h = 1.0\n",
    "with tf.Session() as sess:\n",
    "    sess.run(tf.global_variables_initializer())\n",
    "\n",
    "    for step in range(training_epochs + 1):\n",
    "        sess.run(optimizer, feed_dict={X: train_x, Y: train_y, p_keep_input: training_dropout_i, p_keep_hidden: training_dropout_h})\n",
    "        loss, acc = sess.run([cost, accuracy], feed_dict={\n",
    "                                 X: train_x, Y: train_y, p_keep_input: training_dropout_i, p_keep_hidden: training_dropout_h})\n",
    "        cost_history = np.append(cost_history, acc)\n",
    "        if step % 100 == 0:\n",
    "            print(\"Step: {:5}\\tLoss: {:.3f}\\tAcc: {:.2%}\".format(\n",
    "                step, loss, acc))\n",
    "            \n",
    "    # Test model and check accuracy\n",
    "    pre = tf.argmax(h0, 1)\n",
    "    test_yy = np.transpose(test_y.ravel())\n",
    "    print(test_yy.shape)\n",
    "    correct_prediction = tf.equal(pre, test_yy)\n",
    "    accuracy = tf.reduce_mean(tf.cast(correct_prediction, tf.float32))\n",
    "    print('Test Accuracy:', sess.run(accuracy, feed_dict={X: test_x, \n",
    "                                                         p_keep_input: 1.0,\n",
    "                                                         p_keep_hidden: 1.0}))"
   ]
  },
  {
   "cell_type": "code",
   "execution_count": 200,
   "metadata": {},
   "outputs": [
    {
     "name": "stdout",
     "output_type": "stream",
     "text": [
      "(3002,)\n"
     ]
    },
    {
     "data": {
      "image/png": "[encoded data removed]",
      "text/plain": [
       "<matplotlib.figure.Figure at 0x20c165fbd68>"
      ]
     },
     "metadata": {},
     "output_type": "display_data"
    }
   ],
   "source": [
    "print(cost_history.shape)\n",
    "plt.plot(range(len(cost_history)),cost_history)\n",
    "plt.axis([0,training_epochs,0,1])\n",
    "plt.show()"
   ]
  },
  {
   "cell_type": "code",
   "execution_count": 201,
   "metadata": {
    "collapsed": true
   },
   "outputs": [],
   "source": [
    "sess.close()"
   ]
  }
 ],
 "metadata": {
  "kernelspec": {
   "display_name": "Python 3",
   "language": "python",
   "name": "python3"
  },
  "language_info": {
   "codemirror_mode": {
    "name": "ipython",
    "version": 3
   },
   "file_extension": ".py",
   "mimetype": "text/x-python",
   "name": "python",
   "nbconvert_exporter": "python",
   "pygments_lexer": "ipython3",
   "version": "3.6.1"
  }
 },
 "nbformat": 4,
 "nbformat_minor": 2
}
