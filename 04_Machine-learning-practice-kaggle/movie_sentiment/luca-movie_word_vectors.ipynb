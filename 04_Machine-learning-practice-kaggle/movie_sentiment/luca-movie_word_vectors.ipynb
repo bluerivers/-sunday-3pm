{
 "cells": [
  {
   "cell_type": "markdown",
   "metadata": {},
   "source": [
    "## Using all data including unlabled train data\n",
    "\n",
    "> Word2Vec does not need labels in order to create meaningful representations."
   ]
  },
  {
   "cell_type": "code",
   "execution_count": 14,
   "metadata": {},
   "outputs": [
    {
     "name": "stdout",
     "output_type": "stream",
     "text": [
      "train %d, test %d, unlabeld %d (25000, 25000, 50000)\n"
     ]
    }
   ],
   "source": [
    "import pandas as pd\n",
    "\n",
    "train = pd.read_csv(\"labeledTrainData.tsv\",\n",
    "                    header=0,\n",
    "                    delimiter=\"\\t\",\n",
    "                    quoting=3)\n",
    "test = pd.read_csv(\"testData.tsv\",\n",
    "                    header=0,\n",
    "                    delimiter=\"\\t\",\n",
    "                    quoting=3)\n",
    "unlabeled_train = pd.read_csv(\"unlabeledTrainData.tsv\",\n",
    "                    header=0,\n",
    "                    delimiter=\"\\t\",\n",
    "                    quoting=3)\n",
    "\n",
    "print(\"train %d, test %d, unlabeld %d\",\n",
    "      (train.shape[0], test.shape[0], unlabeled_train.shape[0]))\n"
   ]
  },
  {
   "cell_type": "markdown",
   "metadata": {},
   "source": [
    "#### Python 2의 xrange가 Python 3에서는 사라지고 range로 대체됨\n",
    "Python 3에 range의 return은 list가 아닌 range type"
   ]
  },
  {
   "cell_type": "code",
   "execution_count": 15,
   "metadata": {},
   "outputs": [
    {
     "name": "stdout",
     "output_type": "stream",
     "text": [
      "48\n",
      "48\n",
      "<class 'range'>\n"
     ]
    }
   ],
   "source": [
    "import sys\n",
    "print(sys.getsizeof(range(1000000)))\n",
    "print(sys.getsizeof(range(10)))\n",
    "print(type(range(10)))"
   ]
  },
  {
   "cell_type": "code",
   "execution_count": 16,
   "metadata": {
    "collapsed": true
   },
   "outputs": [],
   "source": [
    "from bs4 import BeautifulSoup\n",
    "import re\n",
    "from nltk.corpus import stopwords\n",
    "\n",
    "def review_to_wordlist(review, remove_stopwords=False):\n",
    "    review_text = BeautifulSoup(review, \"html.parser\").get_text()\n",
    "    review_text = re.sub(\"[^a-zA-Z]\", \" \", review_text)\n",
    "    words = review_text.lower().split()\n",
    "    if remove_stopwords:\n",
    "        stops = set(stopwords.words(\"english\"))\n",
    "        words = [w for w in words if not w in stops]\n",
    "    \n",
    "    return words"
   ]
  },
  {
   "cell_type": "code",
   "execution_count": 17,
   "metadata": {},
   "outputs": [
    {
     "name": "stdout",
     "output_type": "stream",
     "text": [
      "[nltk_data] Downloading package punkt to\n",
      "[nltk_data]     C:\\Users\\deera\\AppData\\Roaming\\nltk_data...\n",
      "[nltk_data]   Package punkt is already up-to-date!\n"
     ]
    },
    {
     "data": {
      "text/plain": [
       "True"
      ]
     },
     "execution_count": 17,
     "metadata": {},
     "output_type": "execute_result"
    }
   ],
   "source": [
    "import nltk.data\n",
    "nltk.download('punkt')"
   ]
  },
  {
   "cell_type": "code",
   "execution_count": 18,
   "metadata": {
    "collapsed": true
   },
   "outputs": [],
   "source": [
    "tokenizer = nltk.data.load('tokenizers/punkt/english.pickle')\n",
    "\n",
    "def review_to_sentences(review, tokenizer, remove_stopwords=False):\n",
    "    raw_sentences = tokenizer.tokenize(review.strip())\n",
    "    sentences = []\n",
    "    for raw_sentence in raw_sentences:\n",
    "        if len(raw_sentence) > 0:\n",
    "            sentences.append(review_to_wordlist(raw_sentence, remove_stopwords))\n",
    "    return sentences"
   ]
  },
  {
   "cell_type": "code",
   "execution_count": 19,
   "metadata": {},
   "outputs": [
    {
     "name": "stderr",
     "output_type": "stream",
     "text": [
      "  1%|▋                                                                            | 222/25000 [00:00<00:33, 733.07it/s]C:\\Users\\deera\\Anaconda3\\lib\\site-packages\\bs4\\__init__.py:219: UserWarning: \"b'.'\" looks like a filename, not markup. You should probably open this file and pass the filehandle into Beautiful Soup.\n",
      "  ' Beautiful Soup.' % markup)\n",
      "  6%|████▌                                                                       | 1495/25000 [00:02<00:34, 680.36it/s]C:\\Users\\deera\\Anaconda3\\lib\\site-packages\\bs4\\__init__.py:219: UserWarning: \"b'...'\" looks like a filename, not markup. You should probably open this file and pass the filehandle into Beautiful Soup.\n",
      "  ' Beautiful Soup.' % markup)\n",
      "  6%|████▊                                                                       | 1566/25000 [00:02<00:34, 681.12it/s]C:\\Users\\deera\\Anaconda3\\lib\\site-packages\\bs4\\__init__.py:282: UserWarning: \"http://www.happierabroad.com\"\" looks like a URL. Beautiful Soup is not an HTTP client. You should probably use an HTTP client like requests to get the document behind the URL, and feed that document to Beautiful Soup.\n",
      "  ' that document to Beautiful Soup.' % decoded_markup\n",
      "100%|███████████████████████████████████████████████████████████████████████████| 25000/25000 [00:35<00:00, 704.60it/s]\n",
      "  1%|▍                                                                            | 310/50000 [00:00<01:04, 768.09it/s]C:\\Users\\deera\\Anaconda3\\lib\\site-packages\\bs4\\__init__.py:282: UserWarning: \"http://www.archive.org/details/LovefromaStranger\"\" looks like a URL. Beautiful Soup is not an HTTP client. You should probably use an HTTP client like requests to get the document behind the URL, and feed that document to Beautiful Soup.\n",
      "  ' that document to Beautiful Soup.' % decoded_markup\n",
      "  5%|███▊                                                                        | 2541/50000 [00:03<01:05, 721.36it/s]C:\\Users\\deera\\Anaconda3\\lib\\site-packages\\bs4\\__init__.py:282: UserWarning: \"http://www.loosechangeguide.com/LooseChangeGuide.html\"\" looks like a URL. Beautiful Soup is not an HTTP client. You should probably use an HTTP client like requests to get the document behind the URL, and feed that document to Beautiful Soup.\n",
      "  ' that document to Beautiful Soup.' % decoded_markup\n",
      " 14%|██████████▉                                                                 | 7187/50000 [00:10<01:00, 707.59it/s]C:\\Users\\deera\\Anaconda3\\lib\\site-packages\\bs4\\__init__.py:219: UserWarning: \"b'... ...'\" looks like a filename, not markup. You should probably open this file and pass the filehandle into Beautiful Soup.\n",
      "  ' Beautiful Soup.' % markup)\n",
      " 35%|██████████████████████████▏                                                | 17467/50000 [00:25<00:46, 697.84it/s]C:\\Users\\deera\\Anaconda3\\lib\\site-packages\\bs4\\__init__.py:219: UserWarning: \"b'....'\" looks like a filename, not markup. You should probably open this file and pass the filehandle into Beautiful Soup.\n",
      "  ' Beautiful Soup.' % markup)\n",
      " 43%|████████████████████████████████                                           | 21373/50000 [00:30<00:41, 697.59it/s]C:\\Users\\deera\\Anaconda3\\lib\\site-packages\\bs4\\__init__.py:282: UserWarning: \"http://www.msnbc.msn.com/id/4972055/site/newsweek/\"\" looks like a URL. Beautiful Soup is not an HTTP client. You should probably use an HTTP client like requests to get the document behind the URL, and feed that document to Beautiful Soup.\n",
      "  ' that document to Beautiful Soup.' % decoded_markup\n",
      " 62%|██████████████████████████████████████████████▋                            | 31157/50000 [00:44<00:27, 694.60it/s]C:\\Users\\deera\\Anaconda3\\lib\\site-packages\\bs4\\__init__.py:219: UserWarning: \"b'..'\" looks like a filename, not markup. You should probably open this file and pass the filehandle into Beautiful Soup.\n",
      "  ' Beautiful Soup.' % markup)\n",
      " 72%|█████████████████████████████████████████████████████▉                     | 35924/50000 [00:51<00:20, 696.53it/s]C:\\Users\\deera\\Anaconda3\\lib\\site-packages\\bs4\\__init__.py:282: UserWarning: \"http://www.youtube.com/watch?v=a0KSqelmgN8\"\" looks like a URL. Beautiful Soup is not an HTTP client. You should probably use an HTTP client like requests to get the document behind the URL, and feed that document to Beautiful Soup.\n",
      "  ' that document to Beautiful Soup.' % decoded_markup\n",
      " 88%|██████████████████████████████████████████████████████████████████         | 44062/50000 [01:03<00:08, 695.49it/s]C:\\Users\\deera\\Anaconda3\\lib\\site-packages\\bs4\\__init__.py:219: UserWarning: \"b'.. .'\" looks like a filename, not markup. You should probably open this file and pass the filehandle into Beautiful Soup.\n",
      "  ' Beautiful Soup.' % markup)\n",
      " 97%|████████████████████████████████████████████████████████████████████████▋  | 48438/50000 [01:09<00:02, 695.17it/s]C:\\Users\\deera\\Anaconda3\\lib\\site-packages\\bs4\\__init__.py:282: UserWarning: \"http://jake-weird.blogspot.com/2007/08/beneath.html\"\" looks like a URL. Beautiful Soup is not an HTTP client. You should probably use an HTTP client like requests to get the document behind the URL, and feed that document to Beautiful Soup.\n",
      "  ' that document to Beautiful Soup.' % decoded_markup\n",
      "100%|███████████████████████████████████████████████████████████████████████████| 50000/50000 [01:11<00:00, 696.39it/s]\n"
     ]
    }
   ],
   "source": [
    "from tqdm import tqdm\n",
    "sentences = []\n",
    "\n",
    "for review in tqdm(train[\"review\"]):\n",
    "    sentences += review_to_sentences(review, tokenizer)\n",
    "\n",
    "for review in tqdm(unlabeled_train[\"review\"]):\n",
    "    sentences += review_to_sentences(review, tokenizer)"
   ]
  },
  {
   "cell_type": "code",
   "execution_count": 20,
   "metadata": {},
   "outputs": [
    {
     "name": "stdout",
     "output_type": "stream",
     "text": [
      "['with', 'all', 'this', 'stuff', 'going', 'down', 'at', 'the', 'moment', 'with', 'mj', 'i', 've', 'started', 'listening', 'to', 'his', 'music', 'watching', 'the', 'odd', 'documentary', 'here', 'and', 'there', 'watched', 'the', 'wiz', 'and', 'watched', 'moonwalker', 'again']\n",
      "['maybe', 'i', 'just', 'want', 'to', 'get', 'a', 'certain', 'insight', 'into', 'this', 'guy', 'who', 'i', 'thought', 'was', 'really', 'cool', 'in', 'the', 'eighties', 'just', 'to', 'maybe', 'make', 'up', 'my', 'mind', 'whether', 'he', 'is', 'guilty', 'or', 'innocent']\n"
     ]
    }
   ],
   "source": [
    "print(sentences[0])\n",
    "print(sentences[1])"
   ]
  },
  {
   "cell_type": "code",
   "execution_count": 21,
   "metadata": {
    "collapsed": true
   },
   "outputs": [],
   "source": [
    "a = [['a', 'b']]"
   ]
  },
  {
   "cell_type": "code",
   "execution_count": 22,
   "metadata": {
    "collapsed": true
   },
   "outputs": [],
   "source": [
    "a.append(['b', 'c'])"
   ]
  },
  {
   "cell_type": "code",
   "execution_count": 23,
   "metadata": {
    "collapsed": true
   },
   "outputs": [],
   "source": [
    "a += ['c','d']"
   ]
  },
  {
   "cell_type": "code",
   "execution_count": 24,
   "metadata": {},
   "outputs": [
    {
     "data": {
      "text/plain": [
       "[['a', 'b'], ['b', 'c'], 'c', 'd']"
      ]
     },
     "execution_count": 24,
     "metadata": {},
     "output_type": "execute_result"
    }
   ],
   "source": [
    "a"
   ]
  },
  {
   "cell_type": "code",
   "execution_count": 25,
   "metadata": {},
   "outputs": [
    {
     "data": {
      "text/plain": [
       "[['with',\n",
       "  'all',\n",
       "  'this',\n",
       "  'stuff',\n",
       "  'going',\n",
       "  'down',\n",
       "  'at',\n",
       "  'the',\n",
       "  'moment',\n",
       "  'with',\n",
       "  'mj',\n",
       "  'i',\n",
       "  've',\n",
       "  'started',\n",
       "  'listening',\n",
       "  'to',\n",
       "  'his',\n",
       "  'music',\n",
       "  'watching',\n",
       "  'the',\n",
       "  'odd',\n",
       "  'documentary',\n",
       "  'here',\n",
       "  'and',\n",
       "  'there',\n",
       "  'watched',\n",
       "  'the',\n",
       "  'wiz',\n",
       "  'and',\n",
       "  'watched',\n",
       "  'moonwalker',\n",
       "  'again'],\n",
       " ['maybe',\n",
       "  'i',\n",
       "  'just',\n",
       "  'want',\n",
       "  'to',\n",
       "  'get',\n",
       "  'a',\n",
       "  'certain',\n",
       "  'insight',\n",
       "  'into',\n",
       "  'this',\n",
       "  'guy',\n",
       "  'who',\n",
       "  'i',\n",
       "  'thought',\n",
       "  'was',\n",
       "  'really',\n",
       "  'cool',\n",
       "  'in',\n",
       "  'the',\n",
       "  'eighties',\n",
       "  'just',\n",
       "  'to',\n",
       "  'maybe',\n",
       "  'make',\n",
       "  'up',\n",
       "  'my',\n",
       "  'mind',\n",
       "  'whether',\n",
       "  'he',\n",
       "  'is',\n",
       "  'guilty',\n",
       "  'or',\n",
       "  'innocent'],\n",
       " ['moonwalker',\n",
       "  'is',\n",
       "  'part',\n",
       "  'biography',\n",
       "  'part',\n",
       "  'feature',\n",
       "  'film',\n",
       "  'which',\n",
       "  'i',\n",
       "  'remember',\n",
       "  'going',\n",
       "  'to',\n",
       "  'see',\n",
       "  'at',\n",
       "  'the',\n",
       "  'cinema',\n",
       "  'when',\n",
       "  'it',\n",
       "  'was',\n",
       "  'originally',\n",
       "  'released'],\n",
       " ['some',\n",
       "  'of',\n",
       "  'it',\n",
       "  'has',\n",
       "  'subtle',\n",
       "  'messages',\n",
       "  'about',\n",
       "  'mj',\n",
       "  's',\n",
       "  'feeling',\n",
       "  'towards',\n",
       "  'the',\n",
       "  'press',\n",
       "  'and',\n",
       "  'also',\n",
       "  'the',\n",
       "  'obvious',\n",
       "  'message',\n",
       "  'of',\n",
       "  'drugs',\n",
       "  'are',\n",
       "  'bad',\n",
       "  'm',\n",
       "  'kay',\n",
       "  'visually',\n",
       "  'impressive',\n",
       "  'but',\n",
       "  'of',\n",
       "  'course',\n",
       "  'this',\n",
       "  'is',\n",
       "  'all',\n",
       "  'about',\n",
       "  'michael',\n",
       "  'jackson',\n",
       "  'so',\n",
       "  'unless',\n",
       "  'you',\n",
       "  'remotely',\n",
       "  'like',\n",
       "  'mj',\n",
       "  'in',\n",
       "  'anyway',\n",
       "  'then',\n",
       "  'you',\n",
       "  'are',\n",
       "  'going',\n",
       "  'to',\n",
       "  'hate',\n",
       "  'this',\n",
       "  'and',\n",
       "  'find',\n",
       "  'it',\n",
       "  'boring'],\n",
       " ['some',\n",
       "  'may',\n",
       "  'call',\n",
       "  'mj',\n",
       "  'an',\n",
       "  'egotist',\n",
       "  'for',\n",
       "  'consenting',\n",
       "  'to',\n",
       "  'the',\n",
       "  'making',\n",
       "  'of',\n",
       "  'this',\n",
       "  'movie',\n",
       "  'but',\n",
       "  'mj',\n",
       "  'and',\n",
       "  'most',\n",
       "  'of',\n",
       "  'his',\n",
       "  'fans',\n",
       "  'would',\n",
       "  'say',\n",
       "  'that',\n",
       "  'he',\n",
       "  'made',\n",
       "  'it',\n",
       "  'for',\n",
       "  'the',\n",
       "  'fans',\n",
       "  'which',\n",
       "  'if',\n",
       "  'true',\n",
       "  'is',\n",
       "  'really',\n",
       "  'nice',\n",
       "  'of',\n",
       "  'him',\n",
       "  'the',\n",
       "  'actual',\n",
       "  'feature',\n",
       "  'film',\n",
       "  'bit',\n",
       "  'when',\n",
       "  'it',\n",
       "  'finally',\n",
       "  'starts',\n",
       "  'is',\n",
       "  'only',\n",
       "  'on',\n",
       "  'for',\n",
       "  'minutes',\n",
       "  'or',\n",
       "  'so',\n",
       "  'excluding',\n",
       "  'the',\n",
       "  'smooth',\n",
       "  'criminal',\n",
       "  'sequence',\n",
       "  'and',\n",
       "  'joe',\n",
       "  'pesci',\n",
       "  'is',\n",
       "  'convincing',\n",
       "  'as',\n",
       "  'a',\n",
       "  'psychopathic',\n",
       "  'all',\n",
       "  'powerful',\n",
       "  'drug',\n",
       "  'lord'],\n",
       " ['why', 'he', 'wants', 'mj', 'dead', 'so', 'bad', 'is', 'beyond', 'me'],\n",
       " ['because', 'mj', 'overheard', 'his', 'plans'],\n",
       " ['nah',\n",
       "  'joe',\n",
       "  'pesci',\n",
       "  's',\n",
       "  'character',\n",
       "  'ranted',\n",
       "  'that',\n",
       "  'he',\n",
       "  'wanted',\n",
       "  'people',\n",
       "  'to',\n",
       "  'know',\n",
       "  'it',\n",
       "  'is',\n",
       "  'he',\n",
       "  'who',\n",
       "  'is',\n",
       "  'supplying',\n",
       "  'drugs',\n",
       "  'etc',\n",
       "  'so',\n",
       "  'i',\n",
       "  'dunno',\n",
       "  'maybe',\n",
       "  'he',\n",
       "  'just',\n",
       "  'hates',\n",
       "  'mj',\n",
       "  's',\n",
       "  'music',\n",
       "  'lots',\n",
       "  'of',\n",
       "  'cool',\n",
       "  'things',\n",
       "  'in',\n",
       "  'this',\n",
       "  'like',\n",
       "  'mj',\n",
       "  'turning',\n",
       "  'into',\n",
       "  'a',\n",
       "  'car',\n",
       "  'and',\n",
       "  'a',\n",
       "  'robot',\n",
       "  'and',\n",
       "  'the',\n",
       "  'whole',\n",
       "  'speed',\n",
       "  'demon',\n",
       "  'sequence'],\n",
       " ['also',\n",
       "  'the',\n",
       "  'director',\n",
       "  'must',\n",
       "  'have',\n",
       "  'had',\n",
       "  'the',\n",
       "  'patience',\n",
       "  'of',\n",
       "  'a',\n",
       "  'saint',\n",
       "  'when',\n",
       "  'it',\n",
       "  'came',\n",
       "  'to',\n",
       "  'filming',\n",
       "  'the',\n",
       "  'kiddy',\n",
       "  'bad',\n",
       "  'sequence',\n",
       "  'as',\n",
       "  'usually',\n",
       "  'directors',\n",
       "  'hate',\n",
       "  'working',\n",
       "  'with',\n",
       "  'one',\n",
       "  'kid',\n",
       "  'let',\n",
       "  'alone',\n",
       "  'a',\n",
       "  'whole',\n",
       "  'bunch',\n",
       "  'of',\n",
       "  'them',\n",
       "  'performing',\n",
       "  'a',\n",
       "  'complex',\n",
       "  'dance',\n",
       "  'scene',\n",
       "  'bottom',\n",
       "  'line',\n",
       "  'this',\n",
       "  'movie',\n",
       "  'is',\n",
       "  'for',\n",
       "  'people',\n",
       "  'who',\n",
       "  'like',\n",
       "  'mj',\n",
       "  'on',\n",
       "  'one',\n",
       "  'level',\n",
       "  'or',\n",
       "  'another',\n",
       "  'which',\n",
       "  'i',\n",
       "  'think',\n",
       "  'is',\n",
       "  'most',\n",
       "  'people'],\n",
       " ['if', 'not', 'then', 'stay', 'away'],\n",
       " ['it',\n",
       "  'does',\n",
       "  'try',\n",
       "  'and',\n",
       "  'give',\n",
       "  'off',\n",
       "  'a',\n",
       "  'wholesome',\n",
       "  'message',\n",
       "  'and',\n",
       "  'ironically',\n",
       "  'mj',\n",
       "  's',\n",
       "  'bestest',\n",
       "  'buddy',\n",
       "  'in',\n",
       "  'this',\n",
       "  'movie',\n",
       "  'is',\n",
       "  'a',\n",
       "  'girl'],\n",
       " ['michael',\n",
       "  'jackson',\n",
       "  'is',\n",
       "  'truly',\n",
       "  'one',\n",
       "  'of',\n",
       "  'the',\n",
       "  'most',\n",
       "  'talented',\n",
       "  'people',\n",
       "  'ever',\n",
       "  'to',\n",
       "  'grace',\n",
       "  'this',\n",
       "  'planet',\n",
       "  'but',\n",
       "  'is',\n",
       "  'he',\n",
       "  'guilty'],\n",
       " ['well',\n",
       "  'with',\n",
       "  'all',\n",
       "  'the',\n",
       "  'attention',\n",
       "  'i',\n",
       "  've',\n",
       "  'gave',\n",
       "  'this',\n",
       "  'subject',\n",
       "  'hmmm',\n",
       "  'well',\n",
       "  'i',\n",
       "  'don',\n",
       "  't',\n",
       "  'know',\n",
       "  'because',\n",
       "  'people',\n",
       "  'can',\n",
       "  'be',\n",
       "  'different',\n",
       "  'behind',\n",
       "  'closed',\n",
       "  'doors',\n",
       "  'i',\n",
       "  'know',\n",
       "  'this',\n",
       "  'for',\n",
       "  'a',\n",
       "  'fact'],\n",
       " ['he',\n",
       "  'is',\n",
       "  'either',\n",
       "  'an',\n",
       "  'extremely',\n",
       "  'nice',\n",
       "  'but',\n",
       "  'stupid',\n",
       "  'guy',\n",
       "  'or',\n",
       "  'one',\n",
       "  'of',\n",
       "  'the',\n",
       "  'most',\n",
       "  'sickest',\n",
       "  'liars'],\n",
       " ['i', 'hope', 'he', 'is', 'not', 'the', 'latter']]"
      ]
     },
     "execution_count": 25,
     "metadata": {},
     "output_type": "execute_result"
    }
   ],
   "source": [
    "review_to_sentences(train['review'][0], tokenizer)"
   ]
  },
  {
   "cell_type": "markdown",
   "metadata": {},
   "source": [
    "### (List to List) append vs +=\n",
    "\n",
    "* review_to_sentences는 list of list를 반환함\n",
    "* sentences는 tokenized된 sentence list이므로 list of list가 되어야함\n",
    "* sentences에 append로 review_to_sentences를 넣으면 list of list of list로 세겹의 리스트가 됨\n",
    "* list of list를 flatten하여 더하려면 \"+=\"를 사용\n",
    "* extend를 사용해도 될 듯"
   ]
  },
  {
   "cell_type": "code",
   "execution_count": 27,
   "metadata": {},
   "outputs": [],
   "source": [
    "num_features = 300\n",
    "min_word_count = 40\n",
    "num_workers = 4\n",
    "context = 10\n",
    "downsampling = 1e-3\n",
    "\n",
    "from gensim.models import word2vec\n",
    "model = word2vec.Word2Vec(sentences, workers=num_workers,\n",
    "                          size=num_features, min_count=min_word_count,\n",
    "                          window=context, sample=downsampling)\n",
    "\n",
    "model.init_sims(replace=True)\n",
    "model_name = \"300features_40minwords_10context\"\n",
    "model.save(model_name)"
   ]
  },
  {
   "cell_type": "code",
   "execution_count": 29,
   "metadata": {},
   "outputs": [
    {
     "data": {
      "text/plain": [
       "'kitchen'"
      ]
     },
     "execution_count": 29,
     "metadata": {},
     "output_type": "execute_result"
    }
   ],
   "source": [
    "model.wv.doesnt_match(\"man woman child kitchen\".split()) # self.doesnt_match deprecated"
   ]
  },
  {
   "cell_type": "code",
   "execution_count": 31,
   "metadata": {},
   "outputs": [
    {
     "data": {
      "text/plain": [
       "'berlin'"
      ]
     },
     "execution_count": 31,
     "metadata": {},
     "output_type": "execute_result"
    }
   ],
   "source": [
    "model.wv.doesnt_match(\"france england germany berlin\".split())"
   ]
  },
  {
   "cell_type": "code",
   "execution_count": 32,
   "metadata": {},
   "outputs": [
    {
     "data": {
      "text/plain": [
       "'austria'"
      ]
     },
     "execution_count": 32,
     "metadata": {},
     "output_type": "execute_result"
    }
   ],
   "source": [
    "model.wv.doesnt_match(\"paris berlin london austria\".split())"
   ]
  },
  {
   "cell_type": "code",
   "execution_count": 34,
   "metadata": {},
   "outputs": [
    {
     "data": {
      "text/plain": [
       "[('woman', 0.6066652536392212),\n",
       " ('lad', 0.5980775356292725),\n",
       " ('lady', 0.5694639086723328),\n",
       " ('monk', 0.5445770621299744),\n",
       " ('farmer', 0.5429000854492188),\n",
       " ('soldier', 0.535049319267273),\n",
       " ('priest', 0.5140403509140015),\n",
       " ('men', 0.5139135718345642),\n",
       " ('businessman', 0.5052061080932617),\n",
       " ('person', 0.5029299259185791)]"
      ]
     },
     "execution_count": 34,
     "metadata": {},
     "output_type": "execute_result"
    }
   ],
   "source": [
    "model.wv.most_similar(\"man\")"
   ]
  },
  {
   "cell_type": "code",
   "execution_count": 35,
   "metadata": {},
   "outputs": [
    {
     "data": {
      "text/plain": [
       "[('princess', 0.6705778241157532),\n",
       " ('bride', 0.6230665445327759),\n",
       " ('showgirl', 0.606840193271637),\n",
       " ('belle', 0.5980919003486633),\n",
       " ('victoria', 0.594829797744751),\n",
       " ('latifah', 0.5938289165496826),\n",
       " ('mistress', 0.5852643847465515),\n",
       " ('prince', 0.584160566329956),\n",
       " ('goddess', 0.5840729475021362),\n",
       " ('maid', 0.5791008472442627)]"
      ]
     },
     "execution_count": 35,
     "metadata": {},
     "output_type": "execute_result"
    }
   ],
   "source": [
    "model.wv.most_similar(\"queen\") \n",
    "# 퀸 라티파(Queen Latifah, 1970년 3월 18일 ~ )는 미국의 래퍼, 가수, 배우이다. "
   ]
  },
  {
   "cell_type": "code",
   "execution_count": 37,
   "metadata": {},
   "outputs": [
    {
     "data": {
      "text/plain": [
       "[('terrible', 0.7805010080337524),\n",
       " ('horrible', 0.7319923639297485),\n",
       " ('atrocious', 0.7249716520309448),\n",
       " ('dreadful', 0.7171905636787415),\n",
       " ('abysmal', 0.6955070495605469),\n",
       " ('horrid', 0.6777158379554749),\n",
       " ('horrendous', 0.6717355251312256),\n",
       " ('appalling', 0.6638019680976868),\n",
       " ('lousy', 0.6169424653053284),\n",
       " ('amateurish', 0.6150529980659485)]"
      ]
     },
     "execution_count": 37,
     "metadata": {},
     "output_type": "execute_result"
    }
   ],
   "source": [
    "model.wv.most_similar(\"awful\")"
   ]
  },
  {
   "cell_type": "code",
   "execution_count": 41,
   "metadata": {},
   "outputs": [
    {
     "data": {
      "text/plain": [
       "numpy.ndarray"
      ]
     },
     "execution_count": 41,
     "metadata": {},
     "output_type": "execute_result"
    }
   ],
   "source": [
    "type(model.wv.vectors) # self.syn0 deprecated"
   ]
  },
  {
   "cell_type": "code",
   "execution_count": 43,
   "metadata": {},
   "outputs": [
    {
     "data": {
      "text/plain": [
       "(16490, 300)"
      ]
     },
     "execution_count": 43,
     "metadata": {},
     "output_type": "execute_result"
    }
   ],
   "source": [
    "model.wv.vectors.shape"
   ]
  },
  {
   "cell_type": "code",
   "execution_count": 45,
   "metadata": {
    "scrolled": true
   },
   "outputs": [
    {
     "data": {
      "text/plain": [
       "array([-0.06354142, -0.0936269 ,  0.02213193, -0.01767177, -0.04640939,\n",
       "        0.07824473, -0.00180148, -0.0523196 ,  0.00118587,  0.04781227,\n",
       "        0.06613801, -0.0054722 , -0.05486225,  0.15390715,  0.0287239 ,\n",
       "        0.00715939, -0.02388807, -0.07724209,  0.01117754,  0.07514128,\n",
       "       -0.04018224,  0.0505971 , -0.00627393, -0.05635436,  0.06027978,\n",
       "        0.02478678,  0.03163665, -0.01519564, -0.02412035, -0.08949115,\n",
       "       -0.00852329,  0.07730182, -0.08924811, -0.05602032,  0.00805269,\n",
       "        0.08610987,  0.08762605,  0.06371882,  0.09273958, -0.00532631,\n",
       "        0.03972475, -0.04929618, -0.00740629, -0.01792846,  0.06927482,\n",
       "        0.04187896,  0.03666715,  0.05452141, -0.13298371,  0.00412273,\n",
       "        0.01665895, -0.00579724, -0.11763774, -0.03991609,  0.06083677,\n",
       "        0.0070682 ,  0.02802055, -0.07821171,  0.07529671, -0.05034331,\n",
       "        0.04426507, -0.03672064, -0.03859338,  0.04663436, -0.10116771,\n",
       "        0.01031815,  0.04046806, -0.04849631, -0.00404181,  0.09568512,\n",
       "       -0.01652557, -0.15393272, -0.17575726,  0.06349157, -0.04473426,\n",
       "        0.01862299, -0.0139866 ,  0.03329922,  0.01526713,  0.02494217,\n",
       "       -0.00066325, -0.01436755, -0.05775983, -0.05393739,  0.00261344,\n",
       "       -0.06979886, -0.03189672, -0.04314596,  0.02162918, -0.05710136,\n",
       "       -0.05113994,  0.09494115,  0.01107919,  0.00095133, -0.01865429,\n",
       "       -0.12223676,  0.01365466,  0.02378721, -0.03448022, -0.03805973,\n",
       "        0.00871927, -0.01568158, -0.04040416, -0.01690058,  0.05719685,\n",
       "       -0.0210067 ,  0.01886476,  0.03080874, -0.06763617,  0.12365242,\n",
       "        0.0098581 ,  0.0294706 , -0.04485806, -0.1635803 ,  0.06694762,\n",
       "        0.02587908, -0.04760413,  0.07581906,  0.05644713, -0.09535333,\n",
       "        0.03085168, -0.01995133, -0.03184388, -0.08211878,  0.04953567,\n",
       "        0.04394993,  0.03525121, -0.03536349,  0.06298807, -0.03400233,\n",
       "       -0.04378039, -0.04624612, -0.01145684,  0.08907286,  0.06975753,\n",
       "        0.02368713,  0.05506273, -0.02827779,  0.1254117 ,  0.05716393,\n",
       "       -0.13022055,  0.07571856, -0.0333921 , -0.09098294,  0.07205341,\n",
       "       -0.04882447, -0.02955198, -0.05179507, -0.06842265, -0.00611881,\n",
       "        0.13788258,  0.14586361, -0.10824963, -0.072377  ,  0.03707447,\n",
       "        0.02647391, -0.02274848,  0.09566584, -0.09705423, -0.03328273,\n",
       "       -0.00897796, -0.01611947, -0.13217834,  0.03364566, -0.04620641,\n",
       "        0.04875556, -0.03602432,  0.03262492,  0.01494722, -0.01893336,\n",
       "        0.09510035, -0.05109381,  0.03457146,  0.02297777,  0.0461341 ,\n",
       "        0.05249606,  0.0457632 ,  0.04093953, -0.05379592,  0.06642385,\n",
       "       -0.01294109,  0.03916736, -0.04333392, -0.02133597,  0.02977819,\n",
       "        0.05411524, -0.04607506,  0.0100834 , -0.01420939,  0.05921323,\n",
       "       -0.07580692,  0.05828639, -0.05948276, -0.04278414, -0.00879702,\n",
       "       -0.01521931,  0.03747493, -0.0424375 , -0.00375776,  0.06455755,\n",
       "        0.01834679, -0.03365865, -0.02836437, -0.03048693,  0.01981321,\n",
       "       -0.04296505, -0.04007097,  0.06317659,  0.05503446,  0.03557385,\n",
       "       -0.01829631,  0.06374629, -0.03256371, -0.0486534 ,  0.06561393,\n",
       "        0.01498461, -0.021802  ,  0.08425443, -0.04795396,  0.04698405,\n",
       "        0.04995   ,  0.02508183, -0.00462231, -0.0577183 ,  0.02384358,\n",
       "        0.11714928, -0.03424854,  0.03693988, -0.0168622 , -0.01746876,\n",
       "        0.02975782, -0.11881128, -0.07937856, -0.02611178, -0.06886479,\n",
       "       -0.01925988, -0.06457098, -0.04750906,  0.03064749, -0.02860134,\n",
       "       -0.00598328,  0.07270625, -0.06824669,  0.00024065, -0.11824725,\n",
       "       -0.06964917,  0.03927287, -0.03519337, -0.0575322 ,  0.02153754,\n",
       "        0.02829404,  0.04100251,  0.06807171,  0.02665189,  0.00126694,\n",
       "       -0.04084727, -0.03513662,  0.09455525, -0.0275678 , -0.01659322,\n",
       "       -0.05676682, -0.07835218, -0.05685746, -0.01957704, -0.07958217,\n",
       "       -0.05080897,  0.02362731,  0.00476434, -0.07124672, -0.03733322,\n",
       "       -0.01625575,  0.01478956, -0.05008619,  0.03573006, -0.00596287,\n",
       "        0.06259508, -0.04600358,  0.06966986, -0.07631022,  0.08623424,\n",
       "        0.01499073, -0.00835128, -0.01556005,  0.02655846,  0.06409796,\n",
       "       -0.10132805, -0.0081942 ,  0.03041104, -0.00230346,  0.04836577,\n",
       "       -0.03796197, -0.00552116, -0.04325217,  0.03255355, -0.07079952,\n",
       "       -0.10513172,  0.00928873, -0.0731153 ,  0.15728264, -0.08699251],\n",
       "      dtype=float32)"
      ]
     },
     "execution_count": 45,
     "metadata": {},
     "output_type": "execute_result"
    }
   ],
   "source": [
    "model.wv[\"flower\"]"
   ]
  },
  {
   "cell_type": "markdown",
   "metadata": {},
   "source": [
    "### 1. Vector Averaging\n",
    "Word2Vec의 feature들을 review의 문장별로 넣어서, Word2Vec에 해당하는 단어 수만큼 나눔"
   ]
  },
  {
   "cell_type": "code",
   "execution_count": 74,
   "metadata": {
    "collapsed": true
   },
   "outputs": [],
   "source": [
    "import numpy as np\n",
    "\n",
    "def makeFeatureVec(words, model, num_features):\n",
    "    featureVec = np.zeros((num_features,), dtype=\"float32\")\n",
    "    nwords = 0\n",
    "    index2word_set = set(model.wv.index2word)\n",
    "    for word in words:\n",
    "        if word in index2word_set:\n",
    "            nwords = nwords + 1\n",
    "            featureVec = np.add(featureVec, model.wv[word])\n",
    "    featureVec = np.divide(featureVec, nwords)\n",
    "    return featureVec"
   ]
  },
  {
   "cell_type": "code",
   "execution_count": 75,
   "metadata": {},
   "outputs": [],
   "source": [
    "def getAvgFeatureVecs(reviews, model, num_features):\n",
    "    counter = 0\n",
    "    reviewFeatureVecs = np.zeros((len(reviews), num_features), dtype=\"float32\")\n",
    "    for review in tqdm(reviews):\n",
    "        reviewFeatureVecs[counter] = makeFeatureVec(review, model, num_features)\n",
    "        counter = counter + 1\n",
    "    return reviewFeatureVecs"
   ]
  },
  {
   "cell_type": "code",
   "execution_count": 76,
   "metadata": {},
   "outputs": [
    {
     "name": "stderr",
     "output_type": "stream",
     "text": [
      "100%|███████████████████████████████████████████████████████████████████████████| 25000/25000 [00:33<00:00, 748.31it/s]\n",
      "100%|███████████████████████████████████████████████████████████████████████████| 25000/25000 [00:33<00:00, 737.97it/s]\n"
     ]
    }
   ],
   "source": [
    "clean_train_reviews = []\n",
    "for review in train[\"review\"]:\n",
    "    clean_train_reviews.append(review_to_wordlist(review, remove_stopwords=True))\n",
    "\n",
    "trainDataVecs = getAvgFeatureVecs(clean_train_reviews, model, num_features)\n",
    "\n",
    "clean_test_reviews = []\n",
    "for review in test[\"review\"]:\n",
    "    clean_test_reviews.append(review_to_wordlist(review, remove_stopwords=True))\n",
    "\n",
    "testDataVecs = getAvgFeatureVecs(clean_test_reviews, model, num_features)"
   ]
  },
  {
   "cell_type": "code",
   "execution_count": 81,
   "metadata": {},
   "outputs": [],
   "source": [
    "from sklearn.ensemble import RandomForestClassifier\n",
    "\n",
    "forest = RandomForestClassifier(n_estimators = 100)\n",
    "forest = forest.fit(trainDataVecs, train[\"sentiment\"])\n",
    "\n",
    "result = forest.predict(testDataVecs)\n",
    "\n",
    "output = pd.DataFrame(data={\"id\":test[\"id\"], \"sentiment\":result})\n",
    "output.to_csv(\"Word2Vec_AverageVectors.csv\", index=False, quoting=3)"
   ]
  },
  {
   "cell_type": "markdown",
   "metadata": {},
   "source": [
    "* BOG:0.84600 에 비해, 0.83120 로 오히려 낮아짐\n",
    "* TfidfVectorizer를 쓰는 것도 추천(?)"
   ]
  },
  {
   "cell_type": "markdown",
   "metadata": {},
   "source": [
    "### 2. Clustering\n",
    "K-mean cluster를 사용\n",
    "idx는 각 word 별로 해당하는 cluster의 index, 영역이라고 보면 됨"
   ]
  },
  {
   "cell_type": "code",
   "execution_count": 85,
   "metadata": {},
   "outputs": [
    {
     "name": "stdout",
     "output_type": "stream",
     "text": [
      "Time taken for K Means clustering: %d seconds 560.9380407333374\n"
     ]
    }
   ],
   "source": [
    "from sklearn.cluster import KMeans\n",
    "import time\n",
    "\n",
    "start = time.time()\n",
    "\n",
    "word_vectors = model.wv.vectors\n",
    "num_clusters = word_vectors.shape[0] // 5\n",
    "\n",
    "kmeans_clustering = KMeans(n_clusters = num_clusters)\n",
    "idx = kmeans_clustering.fit_predict(word_vectors)\n",
    "\n",
    "end = time.time()\n",
    "elapsed = end - start\n",
    "print(\"Time taken for K Means clustering: %d seconds\", elapsed)"
   ]
  },
  {
   "cell_type": "code",
   "execution_count": 87,
   "metadata": {},
   "outputs": [],
   "source": [
    "# kmean과 word2vec index(word) 합치기\n",
    "word_centroid_map = dict(zip(model.wv.index2word, idx))"
   ]
  },
  {
   "cell_type": "code",
   "execution_count": 99,
   "metadata": {},
   "outputs": [
    {
     "name": "stdout",
     "output_type": "stream",
     "text": [
      "\n",
      "Cluster 0\n",
      "['exterior', 'establishing', 'aerial']\n",
      "\n",
      "Cluster 1\n",
      "['oriental', 'anglo']\n",
      "\n",
      "Cluster 2\n",
      "['ably', 'philippe', 'rufus', 'romantically', 'visibly', 'sewell', 'nicola']\n",
      "\n",
      "Cluster 3\n",
      "['olympic', 'agreement', 'outlet']\n",
      "\n",
      "Cluster 4\n",
      "['wildly', 'stylistically']\n",
      "\n",
      "Cluster 5\n",
      "['awakened', 'rediscovered']\n",
      "\n",
      "Cluster 6\n",
      "['trail', 'telly']\n",
      "\n",
      "Cluster 7\n",
      "['passion', 'condition', 'dignity', 'confidence', 'integrity', 'conscience', 'ambition', 'commitment', 'determination', 'devotion', 'arrogance', 'dedication', 'bravery', 'utmost', 'newfound']\n",
      "\n",
      "Cluster 8\n",
      "['neutral', 'afghanistan', 'civilized']\n",
      "\n",
      "Cluster 9\n",
      "['sinatra', 'wilde', 'incomparable', 'jeanette', 'durante', 'anchors', 'zappa', 'prima', 'guild', 'blaine', 'rossellini', 'minelli', 'lanza']\n"
     ]
    }
   ],
   "source": [
    "for cluster in range(0, 10):\n",
    "    print(\"\\nCluster %d\" % cluster)\n",
    "    words = []\n",
    "    for i in range(0, len(word_centroid_map.values())):\n",
    "        if(idx[i] == cluster):\n",
    "            words.append(model.wv.index2word[i])\n",
    "    print(words)"
   ]
  },
  {
   "cell_type": "markdown",
   "metadata": {},
   "source": [
    "#### 'dict_values' object does not support indexing\n",
    "\n",
    "\n",
    "In Python 3, dict.values() (along with dict.keys() and dict.items()) returns a view, rather than a list. See the documentation here. You therefore need to wrap your call to dict.values() in a call to list like so:\n",
    "\n",
    "```python\n",
    "v = list(d.values())\n",
    "{names[i]:v[i] for i in range(len(names))}\n",
    "```\n",
    "\n",
    "[From StackOverflow](https://stackoverflow.com/questions/17431638/get-typeerror-dict-values-object-does-not-support-indexing-when-using-python)\n"
   ]
  },
  {
   "cell_type": "code",
   "execution_count": 106,
   "metadata": {
    "collapsed": true
   },
   "outputs": [],
   "source": [
    "def create_bag_of_centroids(wordlist, word_centroid_map):\n",
    "    num_centroids = max(word_centroid_map.values()) + 1\n",
    "    bag_of_centroids = np.zeros(num_centroids, dtype=\"float32\")\n",
    "    for word in wordlist:\n",
    "        if word in word_centroid_map:\n",
    "            index = word_centroid_map[word]\n",
    "            bag_of_centroids[index] += 1\n",
    "    \n",
    "    return bag_of_centroids"
   ]
  },
  {
   "cell_type": "code",
   "execution_count": 108,
   "metadata": {},
   "outputs": [],
   "source": [
    "train_centroids = np.zeros((train[\"review\"].size, num_clusters), dtype=\"float32\")\n",
    "\n",
    "counter = 0\n",
    "for review in tqdm(clean_train_reviews):\n",
    "    train_centroids[counter] = create_bag_of_centroids(review, word_centroid_map)\n",
    "    counter += 1\n",
    "\n",
    "test_centroids = np.zeros((test[\"review\"].size, num_clusters), dtype=\"float32\")\n",
    "\n",
    "counter=0\n",
    "for review in tqdm(clean_test_reviews):\n",
    "    test_centroids[counter] = create_bag_of_centroids(review, word_centroid_map)\n",
    "    counter += 1\n",
    "    \n",
    "forest = RandomForestClassifier(n_estimators = 100)\n",
    "forest = forest.fit(train_centroids, train[\"sentiment\"])\n",
    "\n",
    "result = forest.predict(test_centroids)\n",
    "\n",
    "output = pd.DataFrame(data={\"id\":test[\"id\"], \"sentiment\":result})\n",
    "output.to_csv(\"BagOfCentroids.csv\", index=False, quoting=3)"
   ]
  },
  {
   "cell_type": "markdown",
   "metadata": {},
   "source": [
    "### 결과\n",
    "* Bag of centroid (Word2Vec + kmean clustering): 0.84072\n",
    "* Word2Vec average vector: 0.83120\n",
    "* Bag of words: 0.84600"
   ]
  }
 ],
 "metadata": {
  "kernelspec": {
   "display_name": "Python 3",
   "language": "python",
   "name": "python3"
  },
  "language_info": {
   "codemirror_mode": {
    "name": "ipython",
    "version": 3
   },
   "file_extension": ".py",
   "mimetype": "text/x-python",
   "name": "python",
   "nbconvert_exporter": "python",
   "pygments_lexer": "ipython3",
   "version": "3.6.1"
  }
 },
 "nbformat": 4,
 "nbformat_minor": 2
}
